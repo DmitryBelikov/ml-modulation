{
 "cells": [
  {
   "cell_type": "code",
   "execution_count": 1,
   "id": "1ee85293-9d5b-43e3-8faa-e71730ae1248",
   "metadata": {},
   "outputs": [],
   "source": [
    "import numpy as np\n",
    "import pandas as pd\n",
    "import matplotlib.pyplot as plt\n",
    "%matplotlib inline\n",
    "import torch\n",
    "import torch.nn as nn\n",
    "import pytorch_lightning as pl\n",
    "import torchmetrics\n",
    "\n",
    "import scipy.interpolate"
   ]
  },
  {
   "cell_type": "code",
   "execution_count": 2,
   "id": "3fcbad07-7bd8-43a8-8459-533096c2e58a",
   "metadata": {},
   "outputs": [],
   "source": [
    "from pathlib import Path\n",
    "log_dir = Path('logs/')"
   ]
  },
  {
   "cell_type": "code",
   "execution_count": 17,
   "id": "cfb3ec2a-7f6a-459e-b071-bf75b3311ed5",
   "metadata": {},
   "outputs": [],
   "source": [
    "from torch.utils.data import Dataset, DataLoader\n",
    "import torch.nn.functional as F\n",
    "\n",
    "\n",
    "class OfdmDataset(Dataset):\n",
    "    def __init__(self, size, bit_count):\n",
    "        self.size = size\n",
    "        self.class_count = 2 ** bit_count\n",
    "        # self.data = torch.randint(0, self.class_count, (size, 55))\n",
    "    \n",
    "    def __len__(self):\n",
    "        return self.size\n",
    "    \n",
    "    def __getitem__(self, idx):\n",
    "        sample = torch.randint(0, self.class_count, (55,))\n",
    "        return F.one_hot(sample, num_classes=self.class_count).float()\n",
    "    \n",
    "ofdm_train_dataset = OfdmDataset(1024, 4)\n",
    "dataloader = DataLoader(ofdm_train_dataset, batch_size=64, pin_memory=True)"
   ]
  },
  {
   "cell_type": "code",
   "execution_count": 18,
   "id": "90721d03-6088-41bf-b2c4-e761e6262744",
   "metadata": {},
   "outputs": [],
   "source": [
    "from ml_modulation.modules.qam import QamModulator, QamEncoder, QamDecoder"
   ]
  },
  {
   "cell_type": "code",
   "execution_count": 19,
   "id": "3530bd53-fedb-4861-babf-ea49c6f09ea2",
   "metadata": {},
   "outputs": [],
   "source": [
    "from ml_modulation.modules.noise import AwgnNoise\n",
    "from torchinterp1d import Interp1d\n",
    "\n",
    "import tqdm\n",
    "\n",
    "class ComplexAwgnNoise(pl.LightningModule):\n",
    "    def __init__(self, snr):\n",
    "        super().__init__()\n",
    "        self.awgn = AwgnNoise(snr)\n",
    "\n",
    "    def forward(self, x, multiplier):\n",
    "        noised_real = self.awgn(x.real, multiplier)\n",
    "        noised_imag = self.awgn(x.imag, multiplier)\n",
    "        return noised_real + 1j * noised_imag\n",
    "    \n",
    "    \n",
    "class ComplexNormalization(nn.Module):\n",
    "    def __init__(self):\n",
    "        super().__init__()\n",
    "        \n",
    "    def forward(self, x):\n",
    "        return x / torch.sqrt((x.abs() ** 2).mean())\n",
    "    \n",
    "\n",
    "class QamOfdmEncoder(nn.Module):\n",
    "    def __init__(self, bit_count):\n",
    "        super().__init__()\n",
    "        self.qam = QamEncoder(bit_count)\n",
    "        \n",
    "    def forward(self, x):\n",
    "        B, C, W = x.shape\n",
    "        real = self.qam(x.view(B * C, -1)).view(B, C, 2)\n",
    "        comp = real[:, :, 0] + 1j * real[:, :, 1]\n",
    "        return comp\n",
    "\n",
    "class QamOfdmDecoder(nn.Module):\n",
    "    def __init__(self, bit_count):\n",
    "        super().__init__()\n",
    "        self.qam = QamDecoder(bit_count)\n",
    "        \n",
    "    def forward(self, x):\n",
    "        B, N = x.shape\n",
    "        real_sample = torch.stack([x.real, x.imag], dim=2).view(-1, 2)\n",
    "        return self.qam(real_sample).view(B, N, -1)\n",
    "\n",
    "    \n",
    "class NNOfdmEncoder(pl.LightningModule):\n",
    "    def __init__(self, bit_count):\n",
    "        super().__init__()\n",
    "        class_count = 2 ** bit_count\n",
    "        self.encoder = nn.Sequential(\n",
    "            nn.Linear(class_count, 4 * class_count),\n",
    "            nn.ReLU(),\n",
    "            nn.Linear(4 * class_count, 2)\n",
    "        )\n",
    "        \n",
    "    def forward(self, x):\n",
    "        B, C, W = x.shape\n",
    "        real_output = self.encoder(x.float().view(B * C, W)).view(B, C, 2)\n",
    "        return real_output[:, :, 0] + 1j * real_output[:, :, 1]\n",
    "    \n",
    "    \n",
    "class NNOfdmDecoder(pl.LightningModule):\n",
    "    def __init__(self, bit_count):\n",
    "        super().__init__()\n",
    "        class_count = 2 ** bit_count\n",
    "        self.decoder = nn.Sequential(\n",
    "            nn.Linear(2, 4 * class_count),\n",
    "            nn.ReLU(),\n",
    "            nn.Linear(4 * class_count, class_count)\n",
    "        )\n",
    "\n",
    "    def forward(self, x):\n",
    "        B, N = x.shape\n",
    "        real_input = torch.stack([x.real, x.imag], dim=2).view(-1, 2)\n",
    "        return self.decoder(real_input).view(B, N, -1)\n",
    "\n",
    "class NoNoise(nn.Module):\n",
    "    def __init__(self):\n",
    "        super().__init__()\n",
    "        \n",
    "    def forward(self, x, y):\n",
    "        return x\n",
    "\n",
    "class OfdmChannel(pl.LightningModule):\n",
    "    def __init__(self, snr):\n",
    "        super().__init__()\n",
    "        self.register_buffer('response', torch.tensor([[[0.3+0.3j, 0, 1]]]))\n",
    "        # self.response = torch.tensor([[[0.3+0.3j, 0, 1]]], device=self.device)\n",
    "        # self.awgn = ComplexAwgnNoise(snr)\n",
    "        self.awgn = NoNoise()\n",
    "    \n",
    "    def forward(self, signal):\n",
    "        # response = torch.tensor([[[0.3+0.3j, 0, 1]]], device=self.device)\n",
    "        # signal3d = signal.unsqueeze(1)\n",
    "        # convolved = F.conv1d(signal3d, self.response, padding=torch.numel(self.response) - 1)\n",
    "        convolved = signal\n",
    "        signal_power = (convolved ** 2).abs().mean()\n",
    "        return self.awgn(convolved.squeeze(), signal_power)\n",
    "    \n",
    "class Equalizer(pl.LightningModule):\n",
    "    def __init__(self, pilots, pilot_value, payload_size):\n",
    "        super().__init__()\n",
    "        self.register_buffer('pilot_positions', pilots)\n",
    "        self.register_buffer('all_positions', torch.arange(payload_size))\n",
    "        # self.all_positions = torch.arange(payload_size, device=self.device)\n",
    "        self.pilot_value = pilot_value\n",
    "        self.interp = Interp1d()\n",
    "        \n",
    "    def forward(self, x):\n",
    "        pilots = x[:, self.pilot_positions]\n",
    "        pilot_estimates = pilots / self.pilot_value\n",
    "        abs_estimate = self.interp(self.pilot_positions, torch.abs(pilot_estimates), self.all_positions)[0]\n",
    "        angle_estimate = self.interp(self.pilot_positions, torch.angle(pilot_estimates), self.all_positions)[0]\n",
    "        estimate = abs_estimate * torch.exp(1j * angle_estimate)\n",
    "        return x / estimate\n",
    "    \n",
    "class Ofdm(pl.LightningModule):\n",
    "    @classmethod\n",
    "    def from_autoencoder(cls, path, snr):\n",
    "        ofdm = cls(NNOfdmEncoder(4), NNOfdmDecoder(4), snr)\n",
    "        \n",
    "    \n",
    "    def __init__(self, modulator, demodulator, snr):\n",
    "        super().__init__()\n",
    "        self.subcarriers = 64\n",
    "        self.cp = 16\n",
    "        self.register_buffer('pilots', torch.tensor([0, 8, 16, 24, 32, 40, 48, 56, 63]))\n",
    "        # self.pilots = torch.tensor([0, 8, 16, 24, 32, 40, 48, 56, 63], device=self.device)\n",
    "        self.register_buffer('data_carriers', torch.tensor([x for x in range(64) if x not in self.pilots]))\n",
    "        # self.data_carriers = torch.tensor([x for x in range(64) if x not in self.pilots], device=self.device)\n",
    "        self.pilot_value = 3 + 3j\n",
    "        self.modulator = modulator\n",
    "        self.normalizer = ComplexNormalization()\n",
    "        self.channel = OfdmChannel(snr)\n",
    "        self.demodulator = demodulator\n",
    "        self.equalizer = Equalizer(self.pilots, self.pilot_value, self.subcarriers)\n",
    "        \n",
    "        self.loss_function = nn.CrossEntropyLoss()\n",
    "    \n",
    "    def forward(self, messages):\n",
    "        B, C, M = messages.shape\n",
    "        freq_signal = torch.full((B, self.subcarriers), self.pilot_value, dtype=torch.complex64, device=self.device)\n",
    "        freq_signal[:, self.data_carriers] = self.modulator(messages)\n",
    "        time_signal = torch.fft.ifft(freq_signal)\n",
    "        padded_time_signal = torch.hstack([time_signal[:, -self.cp:], time_signal])\n",
    "        transmitted = self.channel(padded_time_signal)\n",
    "        received = transmitted[:, self.cp:(self.cp + self.subcarriers)]\n",
    "        received_freq = torch.fft.fft(received)\n",
    "        equalized = self.equalizer(received_freq)[:, self.data_carriers]\n",
    "        demodulated = self.demodulator(equalized)\n",
    "        return demodulated\n",
    "    \n",
    "    @torch.no_grad()\n",
    "    def constellation(self):\n",
    "        self.eval()\n",
    "        batch = F.one_hot(torch.arange(16)).unsqueeze(0).to(self.device)\n",
    "        outputs = self.normalizer(self.modulator(batch)).squeeze()[:16]\n",
    "        return outputs\n",
    "    \n",
    "    @torch.no_grad()\n",
    "    def outputs(self):\n",
    "        self.eval()\n",
    "        batch = F.one_hot((torch.arange(110) % 16).reshape(2, 55)).to(self.device)\n",
    "        B, C, M = batch.shape\n",
    "        freq_signal = torch.full((B, self.subcarriers), self.pilot_value, dtype=torch.complex64, device=self.device)\n",
    "        freq_signal[:, self.data_carriers] = self.normalizer(self.modulator(batch))\n",
    "        time_signal = torch.fft.ifft(freq_signal)\n",
    "        padded_time_signal = torch.hstack([time_signal[:, -self.cp:], time_signal])\n",
    "        transmitted = self.channel(padded_time_signal)\n",
    "        received = transmitted[:, self.cp:(self.cp + self.subcarriers)]\n",
    "        received_freq = torch.fft.fft(received)\n",
    "        equalized = self.equalizer(received_freq)[:, self.data_carriers][0, :16]\n",
    "        return equalized\n",
    "    \n",
    "    @torch.no_grad()\n",
    "    def no_noise_outputs(self):\n",
    "        self.eval()\n",
    "        batch = F.one_hot((torch.arange(110) % 16).reshape(2, 55)).to(self.device)\n",
    "        print(batch[:, :5])\n",
    "        B, C, M = batch.shape\n",
    "        freq_signal = torch.full((B, self.subcarriers), self.pilot_value, dtype=torch.complex64, device=self.device)\n",
    "        freq_signal[:, self.data_carriers] = self.normalizer(self.modulator(batch))\n",
    "        time_signal = torch.fft.ifft(freq_signal)\n",
    "        padded_time_signal = torch.hstack([time_signal[:, -self.cp:], time_signal])\n",
    "        transmitted = padded_time_signal\n",
    "        received = transmitted[:, self.cp:(self.cp + self.subcarriers)]\n",
    "        received_freq = torch.fft.fft(received)\n",
    "        equalized = self.equalizer(received_freq)[:, self.data_carriers][0, :16]\n",
    "        return equalized\n",
    "        \n",
    "    @torch.no_grad()\n",
    "    def measure_error(self, dataloader, repeat=10):\n",
    "        self.eval()\n",
    "        correct = 0\n",
    "        total = 0\n",
    "        for _ in range(repeat):\n",
    "            for batch in dataloader: # B * C * 2 ^ bit_count\n",
    "                decoded = self(batch)\n",
    "                prediction = decoded.argmax(-1)\n",
    "                true_classes = batch.argmax(-1)\n",
    "\n",
    "                correct += (prediction == true_classes).detach().cpu().sum().item()\n",
    "                total += batch.shape[0] * batch.shape[1]\n",
    "        return 1 - correct / total\n",
    "    \n",
    "    def test_snrs(self, dataloader, snrs):\n",
    "        old_noise = self.channel\n",
    "        result = {}\n",
    "        for snr in tqdm.tqdm(snrs, position=0, leave=True):\n",
    "            self.channel = OfdmChannel(snr)\n",
    "            error = self.measure_error(dataloader)\n",
    "            result[snr] = error\n",
    "        self.channel = old_noise\n",
    "        return result\n",
    "    \n",
    "    def training_step(self, batch, batch_idx):\n",
    "        predictions = self(batch)\n",
    "        loss = self.loss_function(predictions, batch)\n",
    "        return loss\n",
    "    \n",
    "    def configure_optimizers(self):\n",
    "        optimizer = torch.optim.Adam(self.parameters(), lr=0.001)\n",
    "        return optimizer"
   ]
  },
  {
   "cell_type": "code",
   "execution_count": 20,
   "id": "e1b75673-e50f-456b-8553-30a5df5ed160",
   "metadata": {
    "tags": []
   },
   "outputs": [
    {
     "name": "stderr",
     "output_type": "stream",
     "text": [
      "GPU available: True, used: True\n",
      "TPU available: False, using: 0 TPU cores\n",
      "IPU available: False, using: 0 IPUs\n",
      "HPU available: False, using: 0 HPUs\n",
      "LOCAL_RANK: 0 - CUDA_VISIBLE_DEVICES: [0,1,2,3,4,5]\n",
      "\n",
      "  | Name          | Type                 | Params\n",
      "-------------------------------------------------------\n",
      "0 | modulator     | NNOfdmEncoder        | 1.2 K \n",
      "1 | normalizer    | ComplexNormalization | 0     \n",
      "2 | channel       | OfdmChannel          | 0     \n",
      "3 | demodulator   | NNOfdmDecoder        | 1.2 K \n",
      "4 | equalizer     | Equalizer            | 0     \n",
      "5 | loss_function | CrossEntropyLoss     | 0     \n",
      "-------------------------------------------------------\n",
      "2.5 K     Trainable params\n",
      "0         Non-trainable params\n",
      "2.5 K     Total params\n",
      "0.010     Total estimated model params size (MB)\n"
     ]
    },
    {
     "data": {
      "application/vnd.jupyter.widget-view+json": {
       "model_id": "3bef20df312c4c8da563da92ddb0c9e9",
       "version_major": 2,
       "version_minor": 0
      },
      "text/plain": [
       "Training: 0it [00:00, ?it/s]"
      ]
     },
     "metadata": {},
     "output_type": "display_data"
    }
   ],
   "source": [
    "from pytorch_lightning.loggers import CSVLogger\n",
    "\n",
    "device_id = 0\n",
    "device = torch.device(f'cuda:{device_id}')\n",
    "snr = 8.\n",
    "nn_ofdm = Ofdm(NNOfdmEncoder(4).to(device), NNOfdmDecoder(4).to(device), snr).to(device)\n",
    "qam_ofdm = Ofdm(QamOfdmEncoder(4), QamOfdmDecoder(4), snr)\n",
    "logger = CSVLogger(save_dir=log_dir)\n",
    "\n",
    "trainer = pl.Trainer(max_epochs=100, logger=logger, gpus=[device_id])\n",
    "trainer.fit(nn_ofdm, train_dataloaders=dataloader)"
   ]
  },
  {
   "cell_type": "code",
   "execution_count": 12,
   "id": "47535f3e-7bc2-4f7d-a563-827fe2908d40",
   "metadata": {
    "tags": []
   },
   "outputs": [
    {
     "name": "stdout",
     "output_type": "stream",
     "text": [
      "0.0\n",
      "0.5003835227272727\n"
     ]
    }
   ],
   "source": [
    "print(qam_ofdm.measure_error(dataloader))\n",
    "print(nn_ofdm.measure_error(dataloader))"
   ]
  },
  {
   "cell_type": "code",
   "execution_count": 24,
   "id": "c25231e3-05ff-447b-8276-1b50bf7c2219",
   "metadata": {},
   "outputs": [
    {
     "ename": "SyntaxError",
     "evalue": "EOL while scanning string literal (3519857373.py, line 1)",
     "output_type": "error",
     "traceback": [
      "\u001b[0;36m  Input \u001b[0;32mIn [24]\u001b[0;36m\u001b[0m\n\u001b[0;31m    path = Path('../new_model_storage/ae_awgn_16_16.0_50000.pt)\u001b[0m\n\u001b[0m                                                               ^\u001b[0m\n\u001b[0;31mSyntaxError\u001b[0m\u001b[0;31m:\u001b[0m EOL while scanning string literal\n"
     ]
    }
   ],
   "source": [
    "path = Path('../new_model_storage/ae_awgn_16_16.0_50000.pt)\n",
    "pretrained_nn = Ofdm.from_autoencoder(path, )"
   ]
  },
  {
   "cell_type": "code",
   "execution_count": 58,
   "id": "09f5b529-ab85-4c2b-b164-f483c9f6a171",
   "metadata": {},
   "outputs": [
    {
     "name": "stderr",
     "output_type": "stream",
     "text": [
      "100%|█████████████████████████████████████████████████| 10/10 [00:16<00:00,  1.65s/it]"
     ]
    },
    {
     "name": "stdout",
     "output_type": "stream",
     "text": [
      "{5: 0.21993075284090913, 6: 0.17724786931818182, 7: 0.13966619318181817, 8: 0.1099378551136364, 9: 0.08440873579545449, 10: 0.06615056818181819, 11: 0.050877130681818206, 12: 0.040385298295454564, 13: 0.03133345170454549, 14: 0.02517755681818179}\n"
     ]
    },
    {
     "name": "stderr",
     "output_type": "stream",
     "text": [
      "\n"
     ]
    },
    {
     "data": {
      "image/png": "[encoded data removed]",
      "text/plain": [
       "<Figure size 432x288 with 1 Axes>"
      ]
     },
     "metadata": {
      "needs_background": "light"
     },
     "output_type": "display_data"
    }
   ],
   "source": [
    "snrs = range(5, 15)\n",
    "result = qam_ofdm.test_snrs(dataloader, snrs)\n",
    "print(result)\n",
    "for x, y in result.items():\n",
    "    plt.scatter(x, y, color='r')"
   ]
  },
  {
   "cell_type": "code",
   "execution_count": 15,
   "id": "395c8355-5277-4dd6-b07c-9ffdabf3a1f6",
   "metadata": {},
   "outputs": [
    {
     "data": {
      "text/plain": [
       "0.0"
      ]
     },
     "execution_count": 15,
     "metadata": {},
     "output_type": "execute_result"
    }
   ],
   "source": [
    "# qam_ofdm = Ofdm(QamOfdmEncoder(4), QamOfdmDecoder(4), 28.)\n",
    "# qam_ofdm.measure_error(dataloader)"
   ]
  },
  {
   "cell_type": "code",
   "execution_count": 59,
   "id": "6a5ea88a-32a0-46b4-a2a7-0e289af238ef",
   "metadata": {},
   "outputs": [
    {
     "data": {
      "text/plain": [
       "<matplotlib.collections.PathCollection at 0x7faff2e45790>"
      ]
     },
     "execution_count": 59,
     "metadata": {},
     "output_type": "execute_result"
    },
    {
     "data": {
      "image/png": "[encoded data removed]",
      "text/plain": [
       "<Figure size 432x288 with 1 Axes>"
      ]
     },
     "metadata": {
      "needs_background": "light"
     },
     "output_type": "display_data"
    }
   ],
   "source": [
    "cons = nn_ofdm.constellation()\n",
    "# for x, y in zip(cons.real[:6], cons.imag[:6]):\n",
    "#     plt.scatter(x, y)\n",
    "plt.scatter(cons.real, cons.imag)"
   ]
  },
  {
   "cell_type": "code",
   "execution_count": 60,
   "id": "205ce4aa-f748-4092-8503-fe1f7066a628",
   "metadata": {},
   "outputs": [
    {
     "data": {
      "text/plain": [
       "<matplotlib.collections.PathCollection at 0x7faff156dcd0>"
      ]
     },
     "execution_count": 60,
     "metadata": {},
     "output_type": "execute_result"
    },
    {
     "data": {
      "image/png": "[encoded data removed]",
      "text/plain": [
       "<Figure size 432x288 with 1 Axes>"
      ]
     },
     "metadata": {
      "needs_background": "light"
     },
     "output_type": "display_data"
    }
   ],
   "source": [
    "outputs = nn_ofdm.outputs()\n",
    "doubled = outputs\n",
    "plt.scatter(outputs.real, outputs.imag, c='r')\n",
    "plt.scatter(cons.real, cons.imag)\n",
    "# for x, y in zip(doubled.real[:6], doubled.imag[:6]):\n",
    "#     plt.scatter(x, y)"
   ]
  },
  {
   "cell_type": "code",
   "execution_count": 374,
   "id": "ac4cbc15-cafd-419a-b0cb-7161ccb70783",
   "metadata": {},
   "outputs": [
    {
     "data": {
      "text/plain": [
       "tensor([[ 9,  1,  2,  8,  9,  1,  8,  8,  3,  3, 11, 11,  3,  3, 11, 11]])"
      ]
     },
     "execution_count": 374,
     "metadata": {},
     "output_type": "execute_result"
    }
   ],
   "source": [
    "nn_ofdm.demodulator(outputs.unsqueeze(0)).argmax(-1)"
   ]
  },
  {
   "cell_type": "code",
   "execution_count": 372,
   "id": "bc36bd84-a478-4a86-8a29-a39051101238",
   "metadata": {},
   "outputs": [
    {
     "data": {
      "text/plain": [
       "tensor([[ 0.9522+0.9522j,  0.9522+0.3174j,  0.9522-0.3174j,  0.9522-0.9522j,\n",
       "          0.3174+0.9522j,  0.3174+0.3174j,  0.3174-0.3174j,  0.3174-0.9522j,\n",
       "         -0.3174+0.9522j, -0.3174+0.3174j, -0.3174-0.3174j, -0.3174-0.9522j,\n",
       "         -0.9522+0.9522j, -0.9522+0.3174j, -0.9522-0.3174j, -0.9522-0.9522j]])"
      ]
     },
     "execution_count": 372,
     "metadata": {},
     "output_type": "execute_result"
    }
   ],
   "source": [
    "outputs.unsqueeze(0)"
   ]
  },
  {
   "cell_type": "code",
   "execution_count": 297,
   "id": "de422393-b2c4-4f6a-85c5-4a486c1d220d",
   "metadata": {},
   "outputs": [
    {
     "data": {
      "text/plain": [
       "torch.Size([16, 16])"
      ]
     },
     "execution_count": 297,
     "metadata": {},
     "output_type": "execute_result"
    }
   ],
   "source": [
    "sample = F.one_hot(torch.arange(16)).unsqueeze(0)\n",
    "ofdm"
   ]
  },
  {
   "cell_type": "code",
   "execution_count": 368,
   "id": "17bd7ba8-7a51-4fe5-b7bd-7f4aa2ef4160",
   "metadata": {},
   "outputs": [
    {
     "data": {
      "text/plain": [
       "<matplotlib.collections.PathCollection at 0x7f80e82d2940>"
      ]
     },
     "execution_count": 368,
     "metadata": {},
     "output_type": "execute_result"
    },
    {
     "data": {
      "image/png": "[encoded data removed]",
      "text/plain": [
       "<Figure size 432x288 with 1 Axes>"
      ]
     },
     "metadata": {
      "needs_background": "light"
     },
     "output_type": "display_data"
    }
   ],
   "source": [
    "qam_ofdm = Ofdm(QamOfdmEncoder(4), QamOfdmDecoder(4), 28.)\n",
    "outputs = qam_ofdm.no_noise_outputs()\n",
    "plt.scatter(cons.real, cons.imag)\n",
    "plt.scatter(outputs.real, outputs.imag)"
   ]
  },
  {
   "cell_type": "code",
   "execution_count": 24,
   "id": "866a4998-12eb-4eac-b03a-593bcc2b19f2",
   "metadata": {
    "tags": []
   },
   "outputs": [
    {
     "name": "stderr",
     "output_type": "stream",
     "text": [
      "100%|█████████████████████████████████████████████████| 10/10 [00:16<00:00,  1.61s/it]\n"
     ]
    },
    {
     "data": {
      "text/plain": [
       "{5: 0.2221040482954545,\n",
       " 6: 0.17668678977272723,\n",
       " 7: 0.13931285511363634,\n",
       " 8: 0.1098845880681818,\n",
       " 9: 0.08492720170454549,\n",
       " 10: 0.06639382102272728,\n",
       " 11: 0.05138849431818182,\n",
       " 12: 0.040472301136363686,\n",
       " 13: 0.03222478693181818,\n",
       " 14: 0.024921874999999982}"
      ]
     },
     "execution_count": 24,
     "metadata": {},
     "output_type": "execute_result"
    }
   ],
   "source": [
    "qam_ofdm = Ofdm(QamOfdmEncoder(4), QamOfdmDecoder(4), 10)\n",
    "snrs = range(5, 15)\n",
    "result = qam_ofdm.test_snrs(dataloader, snrs)\n",
    "result"
   ]
  },
  {
   "cell_type": "code",
   "execution_count": 25,
   "id": "d2b172a8-ee82-4e0e-a90e-cee66192efc7",
   "metadata": {},
   "outputs": [
    {
     "data": {
      "image/png": "[encoded data removed]",
      "text/plain": [
       "<Figure size 432x288 with 1 Axes>"
      ]
     },
     "metadata": {
      "needs_background": "light"
     },
     "output_type": "display_data"
    }
   ],
   "source": [
    "plt.yscale('log')\n",
    "for x, y in result.items():\n",
    "    plt.scatter(x, y, color='r')"
   ]
  },
  {
   "cell_type": "code",
   "execution_count": 77,
   "id": "1a30cf33-4eb1-414e-bdde-11606eb2d3da",
   "metadata": {
    "tags": []
   },
   "outputs": [
    {
     "name": "stdout",
     "output_type": "stream",
     "text": [
      "allCarriers:   [ 0  1  2  3  4  5  6  7  8  9 10 11 12 13 14 15 16 17 18 19 20 21 22 23\n",
      " 24 25 26 27 28 29 30 31 32 33 34 35 36 37 38 39 40 41 42 43 44 45 46 47\n",
      " 48 49 50 51 52 53 54 55 56 57 58 59 60 61 62 63]\n",
      "pilotCarriers: [ 0  8 16 24 32 40 48 56 63]\n",
      "dataCarriers:  [ 1  2  3  4  5  6  7  9 10 11 12 13 14 15 17 18 19 20 21 22 23 25 26 27\n",
      " 28 29 30 31 33 34 35 36 37 38 39 41 42 43 44 45 46 47 49 50 51 52 53 54\n",
      " 55 57 58 59 60 61 62]\n"
     ]
    },
    {
     "data": {
      "image/png": "[encoded data removed]",
      "text/plain": [
       "<Figure size 432x288 with 1 Axes>"
      ]
     },
     "metadata": {
      "needs_background": "light"
     },
     "output_type": "display_data"
    }
   ],
   "source": [
    "K = 64 # number of OFDM subcarriers\n",
    "CP = K//4  # length of the cyclic prefix: 25% of the block\n",
    "P = 8 # number of pilot carriers per OFDM block\n",
    "pilotValue = 3+3j # The known value each pilot transmits\n",
    "allCarriers = np.arange(K)  # indices of all subcarriers ([0, 1, ... K-1])\n",
    "\n",
    "pilotCarriers = allCarriers[::K//P] # Pilots is every (K/P)th carrier.\n",
    "\n",
    "# For convenience of channel estimation, let's make the last carriers also be a pilot\n",
    "pilotCarriers = np.hstack([pilotCarriers, np.array([allCarriers[-1]])])\n",
    "P = P+1\n",
    "\n",
    "# data carriers are all remaining carriers\n",
    "dataCarriers = np.delete(allCarriers, pilotCarriers)\n",
    "\n",
    "print (\"allCarriers:   %s\" % allCarriers)\n",
    "print (\"pilotCarriers: %s\" % pilotCarriers)\n",
    "print (\"dataCarriers:  %s\" % dataCarriers)\n",
    "plt.plot(pilotCarriers, np.zeros_like(pilotCarriers), 'bo', label='pilot')\n",
    "plt.plot(dataCarriers, np.zeros_like(dataCarriers), 'ro', label='data');\n",
    "\n",
    "\n",
    "# ofdm = Ofdm(0, 0, 0)"
   ]
  },
  {
   "cell_type": "code",
   "execution_count": 78,
   "id": "bc1f2a42-0861-43b7-8a71-17db4b573bf3",
   "metadata": {
    "tags": []
   },
   "outputs": [
    {
     "data": {
      "image/png": "[encoded data removed]",
      "text/plain": [
       "<Figure size 432x288 with 1 Axes>"
      ]
     },
     "metadata": {
      "needs_background": "light"
     },
     "output_type": "display_data"
    }
   ],
   "source": [
    "# demapping_table = {v : k for k, v in mapping_table.items()}\n",
    "channelResponse = np.array([1, 0, 0.3+0.3j])  # the impulse response of the wireless channel\n",
    "H_exact = np.fft.fft(channelResponse, K)\n",
    "plt.plot(allCarriers, abs(H_exact))\n",
    "\n",
    "SNRdb = 50  # signal to noise-ratio in dB at the receiver \n"
   ]
  },
  {
   "cell_type": "code",
   "execution_count": 79,
   "id": "5a3843c8-361a-4b18-ad6e-4982818ae854",
   "metadata": {
    "tags": []
   },
   "outputs": [],
   "source": [
    "qam_ofdm_encoder = QamOfdmEncoder()\n",
    "qam_payload = qam_ofdm_encoder(ofdm_train_dataset[0])\n",
    "qam_numpy = np.array(qam_payload)"
   ]
  },
  {
   "cell_type": "code",
   "execution_count": 80,
   "id": "0cc467a0-b5f9-496a-ab62-a9f0b1dc11b4",
   "metadata": {},
   "outputs": [
    {
     "name": "stdout",
     "output_type": "stream",
     "text": [
      "Number of OFDM carriers in frequency domain:  64\n"
     ]
    },
    {
     "data": {
      "text/plain": [
       "array([ 3.        +3.j        , -0.94868332+0.94868332j,\n",
       "       -0.94868332+0.31622779j, -0.31622779-0.94868332j])"
      ]
     },
     "execution_count": 80,
     "metadata": {},
     "output_type": "execute_result"
    }
   ],
   "source": [
    "def OFDM_symbol(QAM_payload):\n",
    "    symbol = np.zeros(K, dtype=complex) # the overall K subcarriers\n",
    "    symbol[pilotCarriers] = pilotValue  # allocate the pilot subcarriers \n",
    "    symbol[dataCarriers] = QAM_payload  # allocate the pilot subcarriers\n",
    "    return symbol\n",
    "OFDM_data = OFDM_symbol(qam_numpy)\n",
    "print (\"Number of OFDM carriers in frequency domain: \", len(OFDM_data))\n",
    "OFDM_data[:4]"
   ]
  },
  {
   "cell_type": "code",
   "execution_count": 81,
   "id": "63e5fdea-9960-4695-bfd1-0101c72d15db",
   "metadata": {},
   "outputs": [
    {
     "name": "stdout",
     "output_type": "stream",
     "text": [
      "Number of OFDM samples in time-domain before CP:  64\n"
     ]
    },
    {
     "data": {
      "text/plain": [
       "array([ 0.54540147+0.58492995j, -0.061396  +0.06453333j,\n",
       "        0.068654  +0.12835189j,  0.08632256-0.02737619j])"
      ]
     },
     "execution_count": 81,
     "metadata": {},
     "output_type": "execute_result"
    }
   ],
   "source": [
    "def IDFT(OFDM_data):\n",
    "    return np.fft.ifft(OFDM_data)\n",
    "OFDM_time = IDFT(OFDM_data)\n",
    "print (\"Number of OFDM samples in time-domain before CP: \", len(OFDM_time))\n",
    "OFDM_time[:4]"
   ]
  },
  {
   "cell_type": "code",
   "execution_count": 82,
   "id": "12db7bf8-f050-4e0d-a495-70cb871701dc",
   "metadata": {},
   "outputs": [
    {
     "name": "stdout",
     "output_type": "stream",
     "text": [
      "Number of OFDM samples in time domain with CP:  80\n"
     ]
    },
    {
     "data": {
      "text/plain": [
       "array([-0.13442263+0.06599798j,  0.02634963+0.11048199j,\n",
       "        0.01187251+0.02921572j,  0.07336626+0.03297247j])"
      ]
     },
     "execution_count": 82,
     "metadata": {},
     "output_type": "execute_result"
    }
   ],
   "source": [
    "def addCP(OFDM_time):\n",
    "    cp = OFDM_time[-CP:]               # take the last CP samples ...\n",
    "    return np.hstack([cp, OFDM_time])  # ... and add them to the beginning\n",
    "OFDM_withCP = addCP(OFDM_time)\n",
    "print (\"Number of OFDM samples in time domain with CP: \", len(OFDM_withCP))\n",
    "OFDM_withCP[10:14]"
   ]
  },
  {
   "cell_type": "code",
   "execution_count": 83,
   "id": "695f4f1f-194d-4269-a6ad-d96f313eef66",
   "metadata": {},
   "outputs": [
    {
     "name": "stdout",
     "output_type": "stream",
     "text": [
      "RX Signal power: 0.0652. Noise power: 0.0000\n"
     ]
    },
    {
     "data": {
      "image/png": "[encoded data removed]",
      "text/plain": [
       "<Figure size 576x144 with 1 Axes>"
      ]
     },
     "metadata": {
      "needs_background": "light"
     },
     "output_type": "display_data"
    }
   ],
   "source": [
    "def channel(signal):\n",
    "    convolved = np.convolve(signal, channelResponse, mode='full')\n",
    "    signal_power = np.mean(abs(convolved**2))\n",
    "    sigma2 = signal_power * 10**(-SNRdb/10)  # calculate noise power based on signal power and SNR\n",
    "    \n",
    "    print (\"RX Signal power: %.4f. Noise power: %.4f\" % (signal_power, sigma2))\n",
    "    \n",
    "    # Generate complex noise with given variance\n",
    "    # noise = np.sqrt(sigma2/2) * (np.random.randn(*convolved.shape)+1j*np.random.randn(*convolved.shape))\n",
    "    noise = 0\n",
    "    return convolved + noise\n",
    "OFDM_TX = OFDM_withCP\n",
    "OFDM_RX = channel(OFDM_TX)\n",
    "plt.figure(figsize=(8,2))\n",
    "plt.plot(abs(OFDM_TX), label='TX signal')\n",
    "plt.plot(abs(OFDM_RX), label='RX signal')\n",
    "plt.legend(fontsize=10)\n",
    "plt.xlabel('Time'); plt.ylabel('$|x(t)|$');\n",
    "plt.grid(True);"
   ]
  },
  {
   "cell_type": "code",
   "execution_count": 84,
   "id": "e73c0ebb-208b-472f-aac5-94bca149af54",
   "metadata": {},
   "outputs": [
    {
     "data": {
      "text/plain": [
       "array([ 0.55432325+0.61382187j, -0.12649738+0.12568081j,\n",
       "        0.05679546+0.46745131j,  0.04854376-0.02643499j,\n",
       "        0.17008454+0.08781241j])"
      ]
     },
     "execution_count": 84,
     "metadata": {},
     "output_type": "execute_result"
    }
   ],
   "source": [
    "def removeCP(signal):\n",
    "    return signal[CP:(CP+K)]\n",
    "OFDM_RX_noCP = removeCP(OFDM_RX)\n",
    "OFDM_RX_noCP[:5]"
   ]
  },
  {
   "cell_type": "code",
   "execution_count": 85,
   "id": "c1e5d7ff-8ef2-4ffb-8750-8702ee1e7629",
   "metadata": {},
   "outputs": [
    {
     "data": {
      "text/plain": [
       "array([ 3.        +4.8j       , -1.5069561 +1.05973068j,\n",
       "       -1.37188004+0.28615214j, -0.36929162-1.36961591j])"
      ]
     },
     "execution_count": 85,
     "metadata": {},
     "output_type": "execute_result"
    }
   ],
   "source": [
    "def DFT(OFDM_RX):\n",
    "    return np.fft.fft(OFDM_RX)\n",
    "OFDM_demod = DFT(OFDM_RX_noCP)\n",
    "OFDM_demod[:4]"
   ]
  },
  {
   "cell_type": "code",
   "execution_count": 86,
   "id": "51020d68-fab6-42bc-aed0-addae55597c7",
   "metadata": {},
   "outputs": [
    {
     "data": {
      "image/png": "[encoded data removed]",
      "text/plain": [
       "<Figure size 432x288 with 1 Axes>"
      ]
     },
     "metadata": {
      "needs_background": "light"
     },
     "output_type": "display_data"
    }
   ],
   "source": [
    "def channelEstimate(OFDM_demod):\n",
    "    pilots = OFDM_demod[pilotCarriers]  # extract the pilot values from the RX signal\n",
    "    Hest_at_pilots = pilots / pilotValue # divide by the transmitted pilot values\n",
    "    \n",
    "    # Perform interpolation between the pilot carriers to get an estimate\n",
    "    # of the channel in the data carriers. Here, we interpolate absolute value and phase \n",
    "    # separately\n",
    "    Hest_abs = scipy.interpolate.interp1d(pilotCarriers, abs(Hest_at_pilots), kind='linear')(allCarriers)\n",
    "    Hest_phase = scipy.interpolate.interp1d(pilotCarriers, np.angle(Hest_at_pilots), kind='linear')(allCarriers)\n",
    "    Hest = Hest_abs * np.exp(1j*Hest_phase)\n",
    "    \n",
    "    plt.plot(allCarriers, abs(H_exact), label='Correct Channel')\n",
    "    plt.stem(pilotCarriers, abs(Hest_at_pilots), label='Pilot estimates')\n",
    "    plt.plot(allCarriers, abs(Hest), label='Estimated channel via interpolation')\n",
    "    plt.grid(True); plt.xlabel('Carrier index'); plt.ylabel('$|H(f)|$'); plt.legend(fontsize=10)\n",
    "    plt.ylim(0,2)\n",
    "    \n",
    "    return Hest\n",
    "Hest = channelEstimate(OFDM_demod)"
   ]
  },
  {
   "cell_type": "code",
   "execution_count": 95,
   "id": "9a953468-fd6a-4524-a841-20ac7f04852e",
   "metadata": {},
   "outputs": [
    {
     "data": {
      "text/plain": [
       "array([1.3       +0.3j       , 1.3149117 +0.22584776j,\n",
       "       1.32559729+0.15096965j, 1.3320224 +0.07560633j])"
      ]
     },
     "execution_count": 95,
     "metadata": {},
     "output_type": "execute_result"
    }
   ],
   "source": [
    "Hest[:4]"
   ]
  },
  {
   "cell_type": "code",
   "execution_count": 88,
   "id": "8914c78c-3ac6-4dac-a39e-3cf0baa75f22",
   "metadata": {},
   "outputs": [],
   "source": [
    "def equalize(OFDM_demod, Hest):\n",
    "    return OFDM_demod / Hest\n",
    "equalized_Hest = equalize(OFDM_demod, Hest)"
   ]
  },
  {
   "cell_type": "code",
   "execution_count": 90,
   "id": "b3429c9a-2da4-4ca7-88d4-a2b82e9499b5",
   "metadata": {},
   "outputs": [
    {
     "data": {
      "text/plain": [
       "array([ 3.        +3.j        , -0.97875079+0.9740421j ,\n",
       "       -0.99739336+0.32945772j, -0.33452603-1.00923499j])"
      ]
     },
     "execution_count": 90,
     "metadata": {},
     "output_type": "execute_result"
    }
   ],
   "source": [
    "equalized_Hest[:4]"
   ]
  },
  {
   "cell_type": "code",
   "execution_count": 64,
   "id": "49202aa4-ec0a-4440-ac89-e8d5f77c5919",
   "metadata": {},
   "outputs": [
    {
     "data": {
      "text/plain": [
       "tensor([ 0.9611-0.4910j, -0.3443+0.3444j, -1.2090-0.1690j, -1.0243+0.4776j],\n",
       "       dtype=torch.complex128)"
      ]
     },
     "execution_count": 64,
     "metadata": {},
     "output_type": "execute_result"
    }
   ],
   "source": [
    "torch_equalized_hest[10:14]"
   ]
  },
  {
   "cell_type": "code",
   "execution_count": 65,
   "id": "8c0c798b-15f0-4e20-b698-746349152d51",
   "metadata": {},
   "outputs": [
    {
     "data": {
      "image/png": "[encoded data removed]",
      "text/plain": [
       "<Figure size 432x288 with 1 Axes>"
      ]
     },
     "metadata": {
      "needs_background": "light"
     },
     "output_type": "display_data"
    }
   ],
   "source": [
    "def get_payload(equalized):\n",
    "    return equalized[dataCarriers]\n",
    "QAM_est = get_payload(equalized_Hest)\n",
    "# for real, imag, c in zip(QAM_est.real, QAM_est.imag, color):\n",
    "    # plt.plot(real, imag, 'o', color=c)\n",
    "plt.plot(QAM_est.real, QAM_est.imag, 'bo');"
   ]
  },
  {
   "cell_type": "code",
   "execution_count": null,
   "id": "de18bef9-d39e-4864-8ed3-ea7157d78739",
   "metadata": {},
   "outputs": [],
   "source": []
  }
 ],
 "metadata": {
  "kernelspec": {
   "display_name": "modulation-nightly",
   "language": "python",
   "name": "modulation-nightly"
  },
  "language_info": {
   "codemirror_mode": {
    "name": "ipython",
    "version": 3
   },
   "file_extension": ".py",
   "mimetype": "text/x-python",
   "name": "python",
   "nbconvert_exporter": "python",
   "pygments_lexer": "ipython3",
   "version": "3.9.12"
  }
 },
 "nbformat": 4,
 "nbformat_minor": 5
}
