{
 "cells": [
  {
   "cell_type": "code",
   "execution_count": 1,
   "id": "1ee85293-9d5b-43e3-8faa-e71730ae1248",
   "metadata": {},
   "outputs": [],
   "source": [
    "import numpy as np\n",
    "import pandas as pd\n",
    "import matplotlib.pyplot as plt\n",
    "%matplotlib inline\n",
    "import torch\n",
    "import torch.nn as nn\n",
    "import pytorch_lightning as pl\n",
    "import torchmetrics"
   ]
  },
  {
   "cell_type": "code",
   "execution_count": 2,
   "id": "3fcbad07-7bd8-43a8-8459-533096c2e58a",
   "metadata": {},
   "outputs": [],
   "source": [
    "from pathlib import Path\n",
    "log_dir = Path('logs/')"
   ]
  },
  {
   "cell_type": "code",
   "execution_count": 3,
   "id": "cfb3ec2a-7f6a-459e-b071-bf75b3311ed5",
   "metadata": {},
   "outputs": [
    {
     "ename": "IndentationError",
     "evalue": "expected an indented block (2377715305.py, line 5)",
     "output_type": "error",
     "traceback": [
      "\u001b[0;36m  Input \u001b[0;32mIn [3]\u001b[0;36m\u001b[0m\n\u001b[0;31m    \u001b[0m\n\u001b[0m    ^\u001b[0m\n\u001b[0;31mIndentationError\u001b[0m\u001b[0;31m:\u001b[0m expected an indented block\n"
     ]
    }
   ],
   "source": [
    "from torch.utils.data import Dataset, DataLoader\n",
    "\n",
    "\n",
    "class OfdmDataset(Dataset):\n",
    "    def __init__(self):\n",
    "        pass\n",
    "    \n",
    "    def __len__(self):\n",
    "        pass\n",
    "    \n",
    "    def __getitem__(self, idx):\n",
    "        pass"
   ]
  },
  {
   "cell_type": "code",
   "execution_count": null,
   "id": "3530bd53-fedb-4861-babf-ea49c6f09ea2",
   "metadata": {},
   "outputs": [],
   "source": [
    "class Ofdm(pl.LightningModule):\n",
    "    def __init__(self, modulator, demodulator, channel):\n",
    "        self.subcarriers = 64\n",
    "        self.pilots = torch.tensor([0, 8, 16, 24, 32, 40, 48, 56, 63], device=self.device)\n",
    "        self.pilot_value = 3 + 3j\n",
    "        self.modulator = modulator\n",
    "        self.channel = channel\n",
    "        self.demodulator = demodulator\n",
    "        self.equalizer = Equalizer()\n",
    "    \n",
    "    def forward(self, ):\n",
    "        pass"
   ]
  }
 ],
 "metadata": {
  "kernelspec": {
   "display_name": "modulation",
   "language": "python",
   "name": "modulation"
  },
  "language_info": {
   "codemirror_mode": {
    "name": "ipython",
    "version": 3
   },
   "file_extension": ".py",
   "mimetype": "text/x-python",
   "name": "python",
   "nbconvert_exporter": "python",
   "pygments_lexer": "ipython3",
   "version": "3.9.12"
  }
 },
 "nbformat": 4,
 "nbformat_minor": 5
}
