{
 "cells": [
  {
   "cell_type": "code",
   "execution_count": 1,
   "id": "b3a0090f-6f77-4cd3-9473-19294190fe74",
   "metadata": {},
   "outputs": [],
   "source": [
    "import numpy as np\n",
    "import pandas as pd\n",
    "import matplotlib.pyplot as plt\n",
    "%matplotlib inline\n",
    "import torch\n",
    "import torch.nn as nn\n",
    "import pytorch_lightning as pl\n",
    "import torchmetrics"
   ]
  },
  {
   "cell_type": "code",
   "execution_count": 2,
   "id": "543e33c6-8516-4cc5-ae31-de666694c41c",
   "metadata": {},
   "outputs": [],
   "source": [
    "from pathlib import Path\n",
    "log_dir = Path('logs/')"
   ]
  },
  {
   "cell_type": "code",
   "execution_count": 3,
   "id": "75bcb7e1-c951-4bab-968c-879ba2e16c0c",
   "metadata": {},
   "outputs": [],
   "source": [
    "from torch.utils.data import Dataset, DataLoader\n",
    "\n",
    "class ModulatorDataset(Dataset):\n",
    "    def __init__(self, bit_count):\n",
    "        super().__init__()\n",
    "        self.bit_count = bit_count\n",
    "        \n",
    "    def __len__(self):\n",
    "        return 2 ** self.bit_count\n",
    "    \n",
    "    def __getitem__(self, idx):\n",
    "        result = torch.zeros(2 ** self.bit_count)\n",
    "        result[idx] = 1\n",
    "        return result\n",
    "\n",
    "bit_count = 4\n",
    "class_count = 2 ** bit_count\n",
    "dataset = ModulatorDataset(bit_count)\n",
    "dataloader = DataLoader(dataset, batch_size=class_count, shuffle=True)"
   ]
  },
  {
   "cell_type": "code",
   "execution_count": 4,
   "id": "1bbe8c02-ffe3-4a1b-a0b9-2d19093a34f7",
   "metadata": {},
   "outputs": [],
   "source": [
    "class EntropyNormalization(nn.Module):\n",
    "    def __init__(self):\n",
    "        super().__init__()\n",
    "        \n",
    "    def forward(self, x):\n",
    "        energy = (x ** 2).sum(axis=1).mean()\n",
    "        return x / energy.sqrt()\n",
    "\n",
    "class AwgnNoise(pl.LightningModule):\n",
    "    def __init__(self, snr):\n",
    "        super().__init__()\n",
    "        self.sigma = np.sqrt(1 / (2 * 10 ** (snr / 10)))\n",
    "        \n",
    "    def forward(self, x):\n",
    "        return x + torch.normal(torch.zeros_like(x, device=self.device), \n",
    "                                torch.full_like(x, self.sigma, device=self.device))\n",
    "    \n",
    "class ModulatorAutoencoder(pl.LightningModule):\n",
    "    def __init__(self, class_count, encoding_shape, snr):\n",
    "        super().__init__()\n",
    "        self.encoder = nn.Sequential(\n",
    "            nn.Linear(class_count, 4 * class_count),\n",
    "            nn.ReLU(),\n",
    "            nn.Linear(4 * class_count, encoding_shape),\n",
    "            EntropyNormalization()\n",
    "        )\n",
    "        self.noise = AwgnNoise(snr)\n",
    "        self.decoder = nn.Sequential(\n",
    "            nn.Linear(encoding_shape, 4 * class_count),\n",
    "            nn.ReLU(),\n",
    "            nn.Linear(4 * class_count, class_count)\n",
    "        )\n",
    "        self.loss_function = nn.CrossEntropyLoss()\n",
    "        self.symbol_error_rate = torchmetrics.Accuracy()\n",
    "        \n",
    "    def forward(self, x):\n",
    "        encoded = self.encoder(x)\n",
    "        noised = self.noise(encoded)\n",
    "        return self.decoder(noised)\n",
    "    \n",
    "    def measure_error(self, dataloader, repeat=1000):\n",
    "        correct = 0\n",
    "        total = 0\n",
    "        for _ in range(repeat):\n",
    "            for batch in dataloader:\n",
    "                decoded = self(batch)\n",
    "                prediction = decoded.argmax(-1)\n",
    "                true_classes = batch.argmax(-1)\n",
    "                \n",
    "                correct += (prediction == true_classes).detach().cpu().sum().item()\n",
    "                total += batch.shape[0]\n",
    "        return 1 - correct / total\n",
    "    \n",
    "    def training_step(self, batch, batch_idx):\n",
    "        decoded = self(batch)\n",
    "        prediction = decoded.argmax(-1)\n",
    "        true_classes = batch.argmax(-1)\n",
    "        loss = self.loss_function(decoded, batch)\n",
    "        ser = self.symbol_error_rate(prediction, true_classes)\n",
    "        self.log('ser', ser, on_epoch=True, on_step=False, prog_bar=True)\n",
    "        self.log('loss', loss, on_epoch=True, on_step=False)\n",
    "        return loss\n",
    "    \n",
    "    def configure_optimizers(self):\n",
    "        optimizer = torch.optim.Adam(self.parameters(), lr=0.005)\n",
    "        # scheduler = torch.optim.lr_scheduler.ReduceLROnPlateau(optimizer, factor=0.3, patience=1000, threshold=0.005, min_lr=1e-5)\n",
    "        return {\n",
    "            'optimizer': optimizer\n",
    "        }"
   ]
  },
  {
   "cell_type": "code",
   "execution_count": 5,
   "id": "a1764d74-866a-4569-8a2f-54e3ec70ece4",
   "metadata": {
    "collapsed": true,
    "jupyter": {
     "outputs_hidden": true
    },
    "tags": []
   },
   "outputs": [
    {
     "name": "stderr",
     "output_type": "stream",
     "text": [
      "GPU available: True, used: True\n",
      "TPU available: False, using: 0 TPU cores\n",
      "IPU available: False, using: 0 IPUs\n",
      "HPU available: False, using: 0 HPUs\n",
      "Missing logger folder: logs/lightning_logs\n",
      "LOCAL_RANK: 0 - CUDA_VISIBLE_DEVICES: [0,1,2,3,4,5]\n",
      "\n",
      "  | Name              | Type             | Params\n",
      "-------------------------------------------------------\n",
      "0 | encoder           | Sequential       | 17.2 K\n",
      "1 | noise             | AwgnNoise        | 0     \n",
      "2 | decoder           | Sequential       | 17.2 K\n",
      "3 | loss_function     | CrossEntropyLoss | 0     \n",
      "4 | symbol_error_rate | Accuracy         | 0     \n",
      "-------------------------------------------------------\n",
      "34.4 K    Trainable params\n",
      "0         Non-trainable params\n",
      "34.4 K    Total params\n",
      "0.137     Total estimated model params size (MB)\n",
      "/home/drbelikov/anaconda3/envs/modulation/lib/python3.9/site-packages/pytorch_lightning/trainer/connectors/data_connector.py:240: PossibleUserWarning: The dataloader, train_dataloader, does not have many workers which may be a bottleneck. Consider increasing the value of the `num_workers` argument` (try 80 which is the number of cpus on this machine) in the `DataLoader` init to improve performance.\n",
      "  rank_zero_warn(\n",
      "/home/drbelikov/anaconda3/envs/modulation/lib/python3.9/site-packages/pytorch_lightning/trainer/trainer.py:1927: PossibleUserWarning: The number of training batches (1) is smaller than the logging interval Trainer(log_every_n_steps=50). Set a lower value for log_every_n_steps if you want to see logs for the training epoch.\n",
      "  rank_zero_warn(\n"
     ]
    },
    {
     "data": {
      "application/vnd.jupyter.widget-view+json": {
       "model_id": "75adfb31ee8c42c288d178368e503c2d",
       "version_major": 2,
       "version_minor": 0
      },
      "text/plain": [
       "Training: 0it [00:00, ?it/s]"
      ]
     },
     "metadata": {},
     "output_type": "display_data"
    },
    {
     "name": "stderr",
     "output_type": "stream",
     "text": [
      "/home/drbelikov/anaconda3/envs/modulation/lib/python3.9/site-packages/pytorch_lightning/trainer/trainer.py:724: UserWarning: Detected KeyboardInterrupt, attempting graceful shutdown...\n",
      "  rank_zero_warn(\"Detected KeyboardInterrupt, attempting graceful shutdown...\")\n",
      "GPU available: True, used: True\n",
      "TPU available: False, using: 0 TPU cores\n",
      "IPU available: False, using: 0 IPUs\n",
      "HPU available: False, using: 0 HPUs\n",
      "LOCAL_RANK: 0 - CUDA_VISIBLE_DEVICES: [0,1,2,3,4,5]\n",
      "\n",
      "  | Name              | Type             | Params\n",
      "-------------------------------------------------------\n",
      "0 | encoder           | Sequential       | 17.2 K\n",
      "1 | noise             | AwgnNoise        | 0     \n",
      "2 | decoder           | Sequential       | 17.2 K\n",
      "3 | loss_function     | CrossEntropyLoss | 0     \n",
      "4 | symbol_error_rate | Accuracy         | 0     \n",
      "-------------------------------------------------------\n",
      "34.4 K    Trainable params\n",
      "0         Non-trainable params\n",
      "34.4 K    Total params\n",
      "0.137     Total estimated model params size (MB)\n"
     ]
    },
    {
     "data": {
      "application/vnd.jupyter.widget-view+json": {
       "model_id": "847061474c5449d598ed444e423dfca9",
       "version_major": 2,
       "version_minor": 0
      },
      "text/plain": [
       "Training: 0it [00:00, ?it/s]"
      ]
     },
     "metadata": {},
     "output_type": "display_data"
    },
    {
     "name": "stderr",
     "output_type": "stream",
     "text": [
      "GPU available: True, used: True\n",
      "TPU available: False, using: 0 TPU cores\n",
      "IPU available: False, using: 0 IPUs\n",
      "HPU available: False, using: 0 HPUs\n",
      "LOCAL_RANK: 0 - CUDA_VISIBLE_DEVICES: [0,1,2,3,4,5]\n",
      "\n",
      "  | Name              | Type             | Params\n",
      "-------------------------------------------------------\n",
      "0 | encoder           | Sequential       | 17.2 K\n",
      "1 | noise             | AwgnNoise        | 0     \n",
      "2 | decoder           | Sequential       | 17.2 K\n",
      "3 | loss_function     | CrossEntropyLoss | 0     \n",
      "4 | symbol_error_rate | Accuracy         | 0     \n",
      "-------------------------------------------------------\n",
      "34.4 K    Trainable params\n",
      "0         Non-trainable params\n",
      "34.4 K    Total params\n",
      "0.137     Total estimated model params size (MB)\n"
     ]
    },
    {
     "data": {
      "application/vnd.jupyter.widget-view+json": {
       "model_id": "e2a8995127124c33a306964368215bf7",
       "version_major": 2,
       "version_minor": 0
      },
      "text/plain": [
       "Training: 0it [00:00, ?it/s]"
      ]
     },
     "metadata": {},
     "output_type": "display_data"
    },
    {
     "name": "stderr",
     "output_type": "stream",
     "text": [
      "GPU available: True, used: True\n",
      "TPU available: False, using: 0 TPU cores\n",
      "IPU available: False, using: 0 IPUs\n",
      "HPU available: False, using: 0 HPUs\n",
      "LOCAL_RANK: 0 - CUDA_VISIBLE_DEVICES: [0,1,2,3,4,5]\n",
      "\n",
      "  | Name              | Type             | Params\n",
      "-------------------------------------------------------\n",
      "0 | encoder           | Sequential       | 17.2 K\n",
      "1 | noise             | AwgnNoise        | 0     \n",
      "2 | decoder           | Sequential       | 17.2 K\n",
      "3 | loss_function     | CrossEntropyLoss | 0     \n",
      "4 | symbol_error_rate | Accuracy         | 0     \n",
      "-------------------------------------------------------\n",
      "34.4 K    Trainable params\n",
      "0         Non-trainable params\n",
      "34.4 K    Total params\n",
      "0.137     Total estimated model params size (MB)\n"
     ]
    },
    {
     "data": {
      "application/vnd.jupyter.widget-view+json": {
       "model_id": "b2861f4ea89d421c932a8e5724def1e5",
       "version_major": 2,
       "version_minor": 0
      },
      "text/plain": [
       "Training: 0it [00:00, ?it/s]"
      ]
     },
     "metadata": {},
     "output_type": "display_data"
    },
    {
     "name": "stderr",
     "output_type": "stream",
     "text": [
      "GPU available: True, used: True\n",
      "TPU available: False, using: 0 TPU cores\n",
      "IPU available: False, using: 0 IPUs\n",
      "HPU available: False, using: 0 HPUs\n",
      "LOCAL_RANK: 0 - CUDA_VISIBLE_DEVICES: [0,1,2,3,4,5]\n",
      "\n",
      "  | Name              | Type             | Params\n",
      "-------------------------------------------------------\n",
      "0 | encoder           | Sequential       | 17.2 K\n",
      "1 | noise             | AwgnNoise        | 0     \n",
      "2 | decoder           | Sequential       | 17.2 K\n",
      "3 | loss_function     | CrossEntropyLoss | 0     \n",
      "4 | symbol_error_rate | Accuracy         | 0     \n",
      "-------------------------------------------------------\n",
      "34.4 K    Trainable params\n",
      "0         Non-trainable params\n",
      "34.4 K    Total params\n",
      "0.137     Total estimated model params size (MB)\n"
     ]
    },
    {
     "data": {
      "application/vnd.jupyter.widget-view+json": {
       "model_id": "7f018a716e8a4271acfe55c861e465d7",
       "version_major": 2,
       "version_minor": 0
      },
      "text/plain": [
       "Training: 0it [00:00, ?it/s]"
      ]
     },
     "metadata": {},
     "output_type": "display_data"
    },
    {
     "name": "stderr",
     "output_type": "stream",
     "text": [
      "GPU available: True, used: True\n",
      "TPU available: False, using: 0 TPU cores\n",
      "IPU available: False, using: 0 IPUs\n",
      "HPU available: False, using: 0 HPUs\n",
      "LOCAL_RANK: 0 - CUDA_VISIBLE_DEVICES: [0,1,2,3,4,5]\n",
      "\n",
      "  | Name              | Type             | Params\n",
      "-------------------------------------------------------\n",
      "0 | encoder           | Sequential       | 17.2 K\n",
      "1 | noise             | AwgnNoise        | 0     \n",
      "2 | decoder           | Sequential       | 17.2 K\n",
      "3 | loss_function     | CrossEntropyLoss | 0     \n",
      "4 | symbol_error_rate | Accuracy         | 0     \n",
      "-------------------------------------------------------\n",
      "34.4 K    Trainable params\n",
      "0         Non-trainable params\n",
      "34.4 K    Total params\n",
      "0.137     Total estimated model params size (MB)\n"
     ]
    },
    {
     "data": {
      "application/vnd.jupyter.widget-view+json": {
       "model_id": "c0a3255bdeae4378824828dcb8c6c7cd",
       "version_major": 2,
       "version_minor": 0
      },
      "text/plain": [
       "Training: 0it [00:00, ?it/s]"
      ]
     },
     "metadata": {},
     "output_type": "display_data"
    },
    {
     "name": "stderr",
     "output_type": "stream",
     "text": [
      "GPU available: True, used: True\n",
      "TPU available: False, using: 0 TPU cores\n",
      "IPU available: False, using: 0 IPUs\n",
      "HPU available: False, using: 0 HPUs\n",
      "LOCAL_RANK: 0 - CUDA_VISIBLE_DEVICES: [0,1,2,3,4,5]\n",
      "\n",
      "  | Name              | Type             | Params\n",
      "-------------------------------------------------------\n",
      "0 | encoder           | Sequential       | 17.2 K\n",
      "1 | noise             | AwgnNoise        | 0     \n",
      "2 | decoder           | Sequential       | 17.2 K\n",
      "3 | loss_function     | CrossEntropyLoss | 0     \n",
      "4 | symbol_error_rate | Accuracy         | 0     \n",
      "-------------------------------------------------------\n",
      "34.4 K    Trainable params\n",
      "0         Non-trainable params\n",
      "34.4 K    Total params\n",
      "0.137     Total estimated model params size (MB)\n"
     ]
    },
    {
     "data": {
      "application/vnd.jupyter.widget-view+json": {
       "model_id": "08bb86496b1b4630b0c10271f2fec615",
       "version_major": 2,
       "version_minor": 0
      },
      "text/plain": [
       "Training: 0it [00:00, ?it/s]"
      ]
     },
     "metadata": {},
     "output_type": "display_data"
    }
   ],
   "source": [
    "from pytorch_lightning.loggers import CSVLogger\n",
    "from pytorch_lightning.callbacks.progress import ProgressBar\n",
    "import tqdm\n",
    "\n",
    "\n",
    "def train_models(bit_count, snrs, device_id=0, root_path=Path('model_storage')):\n",
    "    class_count = 2 ** bit_count\n",
    "    dataset = ModulatorDataset(bit_count)\n",
    "    dataloader = DataLoader(dataset, batch_size=class_count, shuffle=True, pin_memory=True)\n",
    "    \n",
    "    for snr in snrs:\n",
    "        model = ModulatorAutoencoder(class_count, 2, snr)\n",
    "        logger = CSVLogger(save_dir=log_dir)\n",
    "        device = torch.device(f'cuda:{device_id}')\n",
    "        trainer = pl.Trainer(max_epochs=20000, logger=logger, gpus=[device_id])\n",
    "        trainer.fit(model, train_dataloaders=dataloader)\n",
    "        \n",
    "        filename = f'ae_{class_count}_{snr}.pt'\n",
    "        path = root_path / filename\n",
    "        torch.save(model.state_dict(), path)\n",
    "        \n",
    "train_models(6, [18, 19, 20, 21, 22, 23, 24])\n",
    "# train_models(6, [40])\n",
    "# train_models(4, [13, 14, 15, 16, 17])"
   ]
  },
  {
   "cell_type": "code",
   "execution_count": 51,
   "id": "a2894175-60a5-46c1-914b-33a5c766eb62",
   "metadata": {},
   "outputs": [
    {
     "name": "stdout",
     "output_type": "stream",
     "text": [
      "Baseline64.ipynb     __init__.py  \u001b[0m\u001b[01;34mmodel_storage\u001b[0m/\n",
      "Baseline.ipynb       \u001b[01;34mlogs\u001b[0m/        quality.ipynb\n",
      "ClippingNoise.ipynb  LSTM.ipynb   TestDropout.ipynb\n"
     ]
    }
   ],
   "source": [
    "ls"
   ]
  },
  {
   "cell_type": "code",
   "execution_count": null,
   "id": "35f6a55c-dba4-4cc4-ab0d-e0b7280ba0d9",
   "metadata": {},
   "outputs": [],
   "source": [
    "bit_count = 6\n",
    "class_count = 2 ** bit_count\n",
    "dataset = ModulatorDataset(bit_count)\n",
    "dataloader = DataLoader(dataset, batch_size=class_count, shuffle=True)\n",
    "\n",
    "# class_count = 64\n",
    "loaded = ModulatorAutoencoder(class_count, 2, 25)\n",
    "loaded.load_state_dict(torch.load(Path('model_storage/ae_64_20.pt')))\n",
    "loaded.eval()\n",
    "# loaded = model\n",
    "# loaded.eval()\n",
    "device_id = 0\n",
    "device = torch.device(f'cuda:{device_id}')\n",
    "loaded = loaded.to(device)\n",
    "outputs = []\n",
    "for batch in dataloader:\n",
    "    cur_outputs = loaded.encoder(batch.to(device))\n",
    "    outputs.append(cur_outputs.cpu().detach().numpy())\n",
    "points = np.concatenate(outputs)\n",
    "plt.gca().set_aspect('equal', adjustable='box')\n",
    "for point in points:\n",
    "    plt.scatter(x=point[0], y=point[1], c='red')"
   ]
  },
  {
   "cell_type": "code",
   "execution_count": null,
   "id": "251e045d-9788-4fae-9c8e-d536c9cd0871",
   "metadata": {},
   "outputs": [],
   "source": []
  },
  {
   "cell_type": "code",
   "execution_count": 13,
   "id": "45a8e7fd-e23e-4635-9a71-284ae325e71d",
   "metadata": {},
   "outputs": [],
   "source": [
    "torch.cuda.empty_cache()"
   ]
  },
  {
   "cell_type": "code",
   "execution_count": 20,
   "id": "072736bb-9991-4d09-8e59-f63a063cee1f",
   "metadata": {
    "tags": []
   },
   "outputs": [
    {
     "data": {
      "text/plain": [
       "0.003626875"
      ]
     },
     "execution_count": 20,
     "metadata": {},
     "output_type": "execute_result"
    }
   ],
   "source": [
    "predictions = []\n",
    "labels = []\n",
    "\n",
    "model.eval()\n",
    "for _ in range(100000):\n",
    "    for batch in dataloader:\n",
    "        encoded = model.to(device).encoder(batch.to(device))\n",
    "        noise = torch.normal(torch.zeros(encoded.shape, device=device), \n",
    "                             torch.ones(encoded.shape, device=device) / 10)\n",
    "        noised = encoded + noise\n",
    "        decoded = model.to(device).decoder(noised)\n",
    "        cur_prediction = decoded.cpu().detach().argmax(-1).numpy()\n",
    "        cur_labels = batch.argmax(-1).numpy()\n",
    "        labels.append(cur_labels)\n",
    "        predictions.append(cur_prediction)\n",
    "\n",
    "true_labels = np.concatenate(labels)\n",
    "model_predictions = np.concatenate(predictions)\n",
    "\n",
    "error_count = (true_labels != model_predictions).sum()\n",
    "ser = error_count / len(true_labels)\n",
    "ser"
   ]
  },
  {
   "cell_type": "code",
   "execution_count": null,
   "id": "63816e4f-0b93-4e43-b217-751ee1aa2a81",
   "metadata": {
    "tags": []
   },
   "outputs": [],
   "source": []
  },
  {
   "cell_type": "code",
   "execution_count": 14,
   "id": "0a965849-f8ab-4884-8ae1-63e25117fb93",
   "metadata": {},
   "outputs": [
    {
     "data": {
      "text/plain": [
       "2"
      ]
     },
     "execution_count": 14,
     "metadata": {},
     "output_type": "execute_result"
    }
   ],
   "source": [
    "2"
   ]
  },
  {
   "cell_type": "code",
   "execution_count": null,
   "id": "d7423f05-bd59-4ffa-89cc-91ce1222bfd7",
   "metadata": {},
   "outputs": [],
   "source": [
    "## 1 - (1 - 2Q(sqrt(3E/N_0 * 1 / (q - 1)))) ^ 2\n",
    "## Q(x) = erfc(x / sqrt(2)) / 2\n",
    "## erfc(x) = 1 - erf(x)\n",
    "## erf(x) = 2 / sqrt(pi) * int_0^x e^(-z^2)dz"
   ]
  },
  {
   "cell_type": "code",
   "execution_count": 10,
   "id": "a759eea7-9b7f-40f3-b762-b041ef439be9",
   "metadata": {
    "tags": []
   },
   "outputs": [
    {
     "data": {
      "image/png": "[encoded data removed]",
      "text/plain": [
       "<Figure size 432x288 with 1 Axes>"
      ]
     },
     "metadata": {
      "needs_background": "light"
     },
     "output_type": "display_data"
    }
   ],
   "source": [
    "from scipy.special import erfc\n",
    "\n",
    "def Q(x):\n",
    "    return erfc(x / np.sqrt(2)) / 2\n",
    "\n",
    "def p_error(snr, q=16):\n",
    "    sigma = 1 / 2 / (10 ** (snr / 10))\n",
    "    n0 = 2 * sigma\n",
    "    return 1 - (1 - 2 * Q(np.sqrt(3 / n0 / (q - 1)))) ** 2\n",
    "\n",
    "def p_stupid(snr, q=16):\n",
    "    sigma = 1 / 2 / (10 ** (snr / 10))\n",
    "    n0 = 2 * sigma\n",
    "    return np.exp(-3 / 2 / (q - 1) / n0)\n",
    "\n",
    "snrs = np.arange(16, 32, 0.1)\n",
    "plt.yscale('log')\n",
    "# for q in [4, 16, 64]:\n",
    "for q in [256]:\n",
    "    ys = [p_error(snr, q) for snr in snrs]\n",
    "    # zs = [p_stupid(snr, q) for snr in snrs]\n",
    "    plt.plot(snrs, ys)\n",
    "    # plt.plot(snrs, zs)\n",
    "\n",
    "\n",
    "# bit_count = 6\n",
    "# class_count = 2 ** bit_count\n",
    "# nn_probs = []\n",
    "# nn_snrs = [18, 19, 20, 21, 22, 23, 24]\n",
    "# for snr in nn_snrs:\n",
    "#     loaded = ModulatorAutoencoder(class_count, 2, snr)\n",
    "#     loaded.load_state_dict(torch.load(Path(f'model_storage/ae_{class_count}_{snr}.pt')))\n",
    "#     loaded.eval()\n",
    "    \n",
    "#     dataset = ModulatorDataset(bit_count)\n",
    "#     dataloader = DataLoader(dataset, batch_size=class_count, shuffle=True, pin_memory=True)\n",
    "    \n",
    "#     correct = 0\n",
    "#     total = 0\n",
    "#     for _ in range(10 ** 3):\n",
    "#         for batch in dataloader:\n",
    "#             prediction = loaded(batch).cpu().detach().argmax(-1)\n",
    "#             true_labels = batch.argmax(-1)\n",
    "#             correct += (true_labels == prediction).sum().item()\n",
    "#             total += class_count\n",
    "#     nn_probs.append(1 - correct / total)\n",
    "    \n",
    "# plt.scatter(nn_snrs, nn_probs, s=10, c='green');"
   ]
  },
  {
   "cell_type": "code",
   "execution_count": 29,
   "id": "90446482-8bf8-43eb-a9ed-1da7dcebbb08",
   "metadata": {},
   "outputs": [
    {
     "data": {
      "image/png": "[encoded data removed]",
      "text/plain": [
       "<Figure size 720x360 with 2 Axes>"
      ]
     },
     "metadata": {
      "needs_background": "light"
     },
     "output_type": "display_data"
    }
   ],
   "source": [
    "from ml_modulation.modulators.qam import QAM\n",
    "from ml_modulation.modulators.clipped_qam import ClippedQAM\n",
    "\n",
    "bit_count = 6\n",
    "QAM16 = QAM(bit_count)\n",
    "clipped = ClippedQAM(bit_count, 0.5)\n",
    "\n",
    "xs = []\n",
    "ys = []\n",
    "\n",
    "clip_xs = []\n",
    "clip_ys = []\n",
    "\n",
    "for class_idx in range(2 ** bit_count):\n",
    "    bits = []\n",
    "    while len(bits) < bit_count:\n",
    "        bit = class_idx % 2\n",
    "        bits.append(bit)\n",
    "        class_idx //= 2\n",
    "    x, y = QAM16.encode(bits)[0]\n",
    "    clip_x, clip_y = clipped.encode(bits)[0]\n",
    "    xs.append(x)\n",
    "    ys.append(y)\n",
    "    clip_xs.append(clip_x)\n",
    "    clip_ys.append(clip_y)\n",
    "\n",
    "figure, (ax0, ax1) = plt.subplots(1, 2, figsize=(10, 5))\n",
    "ax0.scatter(xs, ys)\n",
    "ax1.scatter(clip_xs, clip_ys)\n",
    "\n",
    "x_limits = list(ax0.get_xlim())\n",
    "y_limits = list(ax0.get_ylim())\n",
    "x_limits1 = list(ax1.get_xlim())\n",
    "y_limits1 = list(ax1.get_ylim())\n",
    "\n",
    "max_limit = max([max(abs(x), abs(y))for x, y in [x_limits, y_limits, x_limits1, y_limits1]])\n",
    "\n",
    "# x_limits[0] = min(x_limits[0], x_limits1[0])\n",
    "# x_limits[1] = max(x_limits[1], x_limits1[1])\n",
    "\n",
    "# y_limits[0] = min(y_limits[0], y_limits1[0])\n",
    "# y_limits[1] = max(y_limits[1], y_limits1[1])\n",
    "\n",
    "# ax0.set_xlim(x_limits)\n",
    "# ax0.set_ylim(y_limits)\n",
    "\n",
    "# ax1.set_xlim(x_limits)\n",
    "# ax1.set_ylim(y_limits);\n",
    "\n",
    "ax0.set_title('Сигнальное созвездие КАМ')\n",
    "ax1.set_title('Сигнальное созвездие КлипКАМ')\n",
    "\n",
    "ax0.set_xlim((-max_limit, max_limit))\n",
    "ax0.set_ylim((-max_limit, max_limit))\n",
    "\n",
    "\n",
    "ax1.axvline(x=0.5, c='r', alpha=0.5, ls='--')\n",
    "ax1.axvline(x=-0.5, c='r', alpha=0.5, ls='--')\n",
    "ax1.set_xlim((-max_limit, max_limit))\n",
    "ax1.set_ylim((-max_limit, max_limit));\n",
    "\n",
    "# figure.savefig('../images/clip_qam.png', facecolor='white')"
   ]
  },
  {
   "cell_type": "code",
   "execution_count": 6,
   "id": "85561992-4de3-477e-8fc3-074dad3bf233",
   "metadata": {},
   "outputs": [
    {
     "data": {
      "text/plain": [
       "(-1.0435516278555652, 1.0435516278555652)"
      ]
     },
     "execution_count": 6,
     "metadata": {},
     "output_type": "execute_result"
    }
   ],
   "source": []
  },
  {
   "cell_type": "code",
   "execution_count": 44,
   "id": "e2ca2395-26a3-4c24-bd1b-afd4fd64f4fd",
   "metadata": {},
   "outputs": [],
   "source": [
    "import os\n",
    "import sys\n",
    "\n",
    "directory = '~/ml-modulation/ml_modulation/modulators/qam'\n",
    "sys.path.append(directory)"
   ]
  },
  {
   "cell_type": "code",
   "execution_count": 45,
   "id": "99b2c111-3ceb-45ae-9924-e5763961171d",
   "metadata": {},
   "outputs": [
    {
     "name": "stdout",
     "output_type": "stream",
     "text": [
      "['/home/drbelikov/ml-modulation/notebooks', '/home/drbelikov/anaconda3/envs/modulation/lib/python39.zip', '/home/drbelikov/anaconda3/envs/modulation/lib/python3.9', '/home/drbelikov/anaconda3/envs/modulation/lib/python3.9/lib-dynload', '', '/home/drbelikov/anaconda3/envs/modulation/lib/python3.9/site-packages', '~/ml-modulation', '~/ml-modulation', '~/ml-modulation', '~/ml-modulation/ml_modulation', '~/ml-modulation/ml_modulation/modulators', '~/ml-modulation/ml_modulation/modulators/qam']\n"
     ]
    }
   ],
   "source": [
    "print(sys.path)"
   ]
  },
  {
   "cell_type": "code",
   "execution_count": null,
   "id": "e6bef801-309c-4b71-b23f-5ad9b22c0b7d",
   "metadata": {},
   "outputs": [],
   "source": []
  }
 ],
 "metadata": {
  "kernelspec": {
   "display_name": "modulation",
   "language": "python",
   "name": "modulation"
  },
  "language_info": {
   "codemirror_mode": {
    "name": "ipython",
    "version": 3
   },
   "file_extension": ".py",
   "mimetype": "text/x-python",
   "name": "python",
   "nbconvert_exporter": "python",
   "pygments_lexer": "ipython3",
   "version": "3.9.12"
  }
 },
 "nbformat": 4,
 "nbformat_minor": 5
}
