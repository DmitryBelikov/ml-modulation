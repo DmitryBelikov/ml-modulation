{
 "cells": [
  {
   "cell_type": "code",
   "execution_count": 1,
   "id": "b3a0090f-6f77-4cd3-9473-19294190fe74",
   "metadata": {},
   "outputs": [],
   "source": [
    "import numpy as np\n",
    "import pandas as pd\n",
    "import matplotlib.pyplot as plt\n",
    "%matplotlib inline\n",
    "import torch\n",
    "import torch.nn as nn\n",
    "import pytorch_lightning as pl\n",
    "import torchmetrics"
   ]
  },
  {
   "cell_type": "code",
   "execution_count": 2,
   "id": "543e33c6-8516-4cc5-ae31-de666694c41c",
   "metadata": {},
   "outputs": [],
   "source": [
    "from pathlib import Path\n",
    "log_dir = Path('logs/')"
   ]
  },
  {
   "cell_type": "code",
   "execution_count": 4,
   "id": "75bcb7e1-c951-4bab-968c-879ba2e16c0c",
   "metadata": {},
   "outputs": [],
   "source": [
    "from torch.utils.data import Dataset, DataLoader\n",
    "\n",
    "class ModulatorDataset(Dataset):\n",
    "    def __init__(self, bit_count):\n",
    "        super().__init__()\n",
    "        self.bit_count = bit_count\n",
    "        \n",
    "    def __len__(self):\n",
    "        return 2 ** self.bit_count\n",
    "    \n",
    "    def __getitem__(self, idx):\n",
    "        result = torch.zeros(2 ** self.bit_count)\n",
    "        result[idx] = 1\n",
    "        return result\n",
    "\n",
    "bit_count = 4\n",
    "class_count = 2 ** bit_count\n",
    "dataset = ModulatorDataset(bit_count)\n",
    "dataloader = DataLoader(dataset, batch_size=class_count, shuffle=True)"
   ]
  },
  {
   "cell_type": "code",
   "execution_count": 16,
   "id": "1bbe8c02-ffe3-4a1b-a0b9-2d19093a34f7",
   "metadata": {},
   "outputs": [],
   "source": [
    "class EntropyNormalization(nn.Module):\n",
    "    def __init__(self):\n",
    "        super().__init__()\n",
    "        \n",
    "    def forward(self, x):\n",
    "        energy = (x ** 2).sum(axis=1).mean()\n",
    "        return x / energy.sqrt()\n",
    "\n",
    "class ModulatorAutoencoder(pl.LightningModule):\n",
    "    def __init__(self, class_count, encoding_shape):\n",
    "        super().__init__()\n",
    "        self.encoder = nn.Sequential(\n",
    "            nn.Linear(class_count, class_count),\n",
    "            nn.ReLU(),\n",
    "            nn.Linear(class_count, encoding_shape),\n",
    "            EntropyNormalization()\n",
    "        )\n",
    "        self.decoder = nn.Sequential(\n",
    "            nn.Linear(encoding_shape, class_count),\n",
    "            nn.ReLU(),\n",
    "            nn.Linear(class_count, class_count),\n",
    "            nn.Softmax()\n",
    "        )\n",
    "        self.loss_function = nn.CrossEntropyLoss()\n",
    "        self.symbol_error_rate = torchmetrics.Accuracy()\n",
    "        \n",
    "    def forward(self, x):\n",
    "        encoded = self.encoder(x)\n",
    "        noise_shape = encoded.shape\n",
    "        # current E/noise 10 dB\n",
    "        noise = torch.normal(torch.zeros(encoded.shape, device=self.device), \n",
    "                             torch.ones(encoded.shape, device=self.device) / 10)\n",
    "        noised = encoded + noise\n",
    "        return self.decoder(noised)\n",
    "    \n",
    "    def training_step(self, batch, batch_idx):\n",
    "        decoded = self(batch)\n",
    "        prediction = decoded.argmax(-1)\n",
    "        true_classes = batch.argmax(-1)\n",
    "        loss = self.loss_function(decoded, batch)\n",
    "        ser = self.symbol_error_rate(prediction, true_classes)\n",
    "        self.log('ser', ser, on_epoch=True, on_step=False, prog_bar=True)\n",
    "        return loss\n",
    "    \n",
    "    def configure_optimizers(self):\n",
    "        optimizer = torch.optim.Adam(self.parameters())\n",
    "        return optimizer"
   ]
  },
  {
   "cell_type": "code",
   "execution_count": 17,
   "id": "a1764d74-866a-4569-8a2f-54e3ec70ece4",
   "metadata": {},
   "outputs": [
    {
     "name": "stderr",
     "output_type": "stream",
     "text": [
      "GPU available: True, used: True\n",
      "TPU available: False, using: 0 TPU cores\n",
      "IPU available: False, using: 0 IPUs\n",
      "LOCAL_RANK: 0 - CUDA_VISIBLE_DEVICES: [0,1,2,3,4,5]\n",
      "\n",
      "  | Name              | Type             | Params\n",
      "-------------------------------------------------------\n",
      "0 | encoder           | Sequential       | 306   \n",
      "1 | decoder           | Sequential       | 320   \n",
      "2 | loss_function     | CrossEntropyLoss | 0     \n",
      "3 | symbol_error_rate | Accuracy         | 0     \n",
      "-------------------------------------------------------\n",
      "626       Trainable params\n",
      "0         Non-trainable params\n",
      "626       Total params\n",
      "0.003     Total estimated model params size (MB)\n"
     ]
    },
    {
     "name": "stdout",
     "output_type": "stream",
     "text": [
      "Epoch 19999: 100%|███| 1/1 [00:00<00:00,  9.11it/s, loss=1.88, v_num=20, ser=1.000]\n"
     ]
    }
   ],
   "source": [
    "from pytorch_lightning.loggers import CSVLogger\n",
    "from pytorch_lightning.callbacks.progress import ProgressBar\n",
    "import tqdm\n",
    "\n",
    "\n",
    "class LitProgressBar(ProgressBar):\n",
    "    def init_validation_tqdm(self):\n",
    "        bar = tqdm.tqdm(            \n",
    "            disable=True,            \n",
    "        )\n",
    "        return bar\n",
    "\n",
    "\n",
    "bar = LitProgressBar()\n",
    "model = ModulatorAutoencoder(class_count, 2)\n",
    "logger = CSVLogger(save_dir=log_dir)\n",
    "device_id = 1\n",
    "device = torch.device(f'cuda:{device_id}')\n",
    "trainer = pl.Trainer(max_epochs=20000, logger=logger, gpus=[device_id], callbacks=[bar])\n",
    "trainer.fit(model, train_dataloaders=dataloader)"
   ]
  },
  {
   "cell_type": "code",
   "execution_count": 18,
   "id": "35f6a55c-dba4-4cc4-ab0d-e0b7280ba0d9",
   "metadata": {},
   "outputs": [
    {
     "data": {
      "image/png": "[encoded data removed]",
      "text/plain": [
       "<Figure size 432x288 with 1 Axes>"
      ]
     },
     "metadata": {
      "needs_background": "light"
     },
     "output_type": "display_data"
    }
   ],
   "source": [
    "outputs = []\n",
    "for batch in dataloader:\n",
    "    cur_outputs = model.to(device).encoder(batch.to(device))\n",
    "    outputs.append(cur_outputs.cpu().detach().numpy())\n",
    "points = np.concatenate(outputs)\n",
    "plt.gca().set_aspect('equal', adjustable='box')\n",
    "for point in points:\n",
    "    plt.scatter(x=point[0], y=point[1], c='red')"
   ]
  },
  {
   "cell_type": "code",
   "execution_count": 20,
   "id": "072736bb-9991-4d09-8e59-f63a063cee1f",
   "metadata": {},
   "outputs": [
    {
     "data": {
      "text/plain": [
       "0.003626875"
      ]
     },
     "execution_count": 20,
     "metadata": {},
     "output_type": "execute_result"
    }
   ],
   "source": [
    "predictions = []\n",
    "labels = []\n",
    "\n",
    "model.eval()\n",
    "for _ in range(100000):\n",
    "    for batch in dataloader:\n",
    "        encoded = model.to(device).encoder(batch.to(device))\n",
    "        noise = torch.normal(torch.zeros(encoded.shape, device=device), \n",
    "                             torch.ones(encoded.shape, device=device) / 10)\n",
    "        noised = encoded + noise\n",
    "        decoded = model.to(device).decoder(noised)\n",
    "        cur_prediction = decoded.cpu().detach().argmax(-1).numpy()\n",
    "        cur_labels = batch.argmax(-1).numpy()\n",
    "        labels.append(cur_labels)\n",
    "        predictions.append(cur_prediction)\n",
    "\n",
    "true_labels = np.concatenate(labels)\n",
    "model_predictions = np.concatenate(predictions)\n",
    "\n",
    "error_count = (true_labels != model_predictions).sum()\n",
    "ser = error_count / len(true_labels)\n",
    "ser"
   ]
  },
  {
   "cell_type": "code",
   "execution_count": null,
   "id": "63816e4f-0b93-4e43-b217-751ee1aa2a81",
   "metadata": {},
   "outputs": [],
   "source": []
  }
 ],
 "metadata": {
  "kernelspec": {
   "display_name": "modulation",
   "language": "python",
   "name": "modulation"
  },
  "language_info": {
   "codemirror_mode": {
    "name": "ipython",
    "version": 3
   },
   "file_extension": ".py",
   "mimetype": "text/x-python",
   "name": "python",
   "nbconvert_exporter": "python",
   "pygments_lexer": "ipython3",
   "version": "3.9.7"
  }
 },
 "nbformat": 4,
 "nbformat_minor": 5
}
