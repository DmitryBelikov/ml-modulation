{
 "cells": [
  {
   "cell_type": "code",
   "execution_count": 2,
   "id": "b3a0090f-6f77-4cd3-9473-19294190fe74",
   "metadata": {},
   "outputs": [],
   "source": [
    "import numpy as np\n",
    "import pandas as pd\n",
    "import matplotlib.pyplot as plt\n",
    "%matplotlib inline\n",
    "import torch\n",
    "import torch.nn as nn\n",
    "import pytorch_lightning as pl\n",
    "import torchmetrics"
   ]
  },
  {
   "cell_type": "code",
   "execution_count": 3,
   "id": "543e33c6-8516-4cc5-ae31-de666694c41c",
   "metadata": {},
   "outputs": [],
   "source": [
    "from pathlib import Path\n",
    "log_dir = Path('logs/')"
   ]
  },
  {
   "cell_type": "code",
   "execution_count": 4,
   "id": "75bcb7e1-c951-4bab-968c-879ba2e16c0c",
   "metadata": {},
   "outputs": [],
   "source": [
    "from torch.utils.data import Dataset, DataLoader\n",
    "\n",
    "class ModulatorDataset(Dataset):\n",
    "    def __init__(self, bit_count):\n",
    "        super().__init__()\n",
    "        self.bit_count = bit_count\n",
    "        \n",
    "    def __len__(self):\n",
    "        return 2 ** self.bit_count\n",
    "    \n",
    "    def __getitem__(self, idx):\n",
    "        result = torch.zeros(2 ** self.bit_count)\n",
    "        result[idx] = 1\n",
    "        return result\n",
    "\n",
    "bit_count = 6\n",
    "class_count = 2 ** bit_count\n",
    "dataset = ModulatorDataset(bit_count)\n",
    "dataloader = DataLoader(dataset, batch_size=class_count, shuffle=True, pin_memory=True)"
   ]
  },
  {
   "cell_type": "code",
   "execution_count": 5,
   "id": "1bbe8c02-ffe3-4a1b-a0b9-2d19093a34f7",
   "metadata": {},
   "outputs": [],
   "source": [
    "class EntropyNormalization(nn.Module):\n",
    "    def __init__(self):\n",
    "        super().__init__()\n",
    "        \n",
    "    def forward(self, x):\n",
    "        energy = (x ** 2).sum(axis=1).mean()\n",
    "        return x / energy.sqrt()\n",
    "\n",
    "class ModulatorAutoencoder(pl.LightningModule):\n",
    "    def __init__(self, class_count, encoding_shape):\n",
    "        super().__init__()\n",
    "        self.encoder = nn.Sequential(\n",
    "            nn.Linear(class_count, class_count),\n",
    "            nn.ReLU(),\n",
    "            nn.Linear(class_count, encoding_shape),\n",
    "            EntropyNormalization()\n",
    "        )\n",
    "        self.decoder = nn.Sequential(\n",
    "            nn.Linear(encoding_shape, class_count),\n",
    "            nn.ReLU(),\n",
    "            nn.Linear(class_count, class_count)\n",
    "        )\n",
    "        self.loss_function = nn.CrossEntropyLoss()\n",
    "        self.symbol_error_rate = torchmetrics.Accuracy()\n",
    "        \n",
    "    def forward(self, x):\n",
    "        encoded = self.encoder(x)\n",
    "        noise_shape = encoded.shape\n",
    "        snr = 20\n",
    "        sigma = np.sqrt(1 / (2 * 10 ** (snr / 10)))\n",
    "        # current E/noise 10 dB\n",
    "        noise = torch.normal(torch.zeros(encoded.shape, device=self.device), \n",
    "                             torch.ones(encoded.shape, device=self.device) * sigma)\n",
    "        noised = encoded + noise\n",
    "        return self.decoder(noised)\n",
    "    \n",
    "    def training_step(self, batch, batch_idx):\n",
    "        decoded = self(batch)\n",
    "        prediction = decoded.argmax(-1)\n",
    "        true_classes = batch.argmax(-1)\n",
    "        loss = self.loss_function(decoded, batch)\n",
    "        ser = self.symbol_error_rate(prediction, true_classes)\n",
    "        self.log('ser', ser, on_epoch=True, on_step=False, prog_bar=True)\n",
    "        return loss\n",
    "    \n",
    "    def configure_optimizers(self):\n",
    "        optimizer = torch.optim.Adam(self.parameters(), lr=0.01)\n",
    "        return optimizer"
   ]
  },
  {
   "cell_type": "code",
   "execution_count": 6,
   "id": "a1764d74-866a-4569-8a2f-54e3ec70ece4",
   "metadata": {},
   "outputs": [
    {
     "name": "stderr",
     "output_type": "stream",
     "text": [
      "/home/drbelikov/anaconda3/envs/modulation/lib/python3.9/site-packages/pytorch_lightning/callbacks/progress/progress.py:21: LightningDeprecationWarning: `ProgressBar` has been deprecated in v1.5 and will be removed in v1.7. It has been renamed to `TQDMProgressBar` instead.\n",
      "  rank_zero_deprecation(\n",
      "GPU available: True, used: True\n",
      "TPU available: False, using: 0 TPU cores\n",
      "IPU available: False, using: 0 IPUs\n",
      "/home/drbelikov/anaconda3/envs/modulation/lib/python3.9/site-packages/torch/cuda/__init__.py:143: UserWarning: \n",
      "NVIDIA GeForce RTX 3060 with CUDA capability sm_86 is not compatible with the current PyTorch installation.\n",
      "The current PyTorch install supports CUDA capabilities sm_37 sm_50 sm_60 sm_70.\n",
      "If you want to use the NVIDIA GeForce RTX 3060 GPU with PyTorch, please check the instructions at https://pytorch.org/get-started/locally/\n",
      "\n",
      "  warnings.warn(incompatible_device_warn.format(device_name, capability, \" \".join(arch_list), device_name))\n",
      "LOCAL_RANK: 0 - CUDA_VISIBLE_DEVICES: [0,1,2,3,4,5]\n",
      "\n",
      "  | Name              | Type             | Params\n",
      "-------------------------------------------------------\n",
      "0 | encoder           | Sequential       | 4.3 K \n",
      "1 | decoder           | Sequential       | 4.4 K \n",
      "2 | loss_function     | CrossEntropyLoss | 0     \n",
      "3 | symbol_error_rate | Accuracy         | 0     \n",
      "-------------------------------------------------------\n",
      "8.6 K     Trainable params\n",
      "0         Non-trainable params\n",
      "8.6 K     Total params\n",
      "0.035     Total estimated model params size (MB)\n",
      "/home/drbelikov/anaconda3/envs/modulation/lib/python3.9/site-packages/pytorch_lightning/trainer/data_loading.py:132: UserWarning: The dataloader, train_dataloader, does not have many workers which may be a bottleneck. Consider increasing the value of the `num_workers` argument` (try 80 which is the number of cpus on this machine) in the `DataLoader` init to improve performance.\n",
      "  rank_zero_warn(\n",
      "/home/drbelikov/anaconda3/envs/modulation/lib/python3.9/site-packages/pytorch_lightning/trainer/data_loading.py:428: UserWarning: The number of training samples (1) is smaller than the logging interval Trainer(log_every_n_steps=50). Set a lower value for log_every_n_steps if you want to see logs for the training epoch.\n",
      "  rank_zero_warn(\n"
     ]
    },
    {
     "name": "stdout",
     "output_type": "stream",
     "text": [
      "Epoch 9999: 100%|█████| 1/1 [00:00<00:00, 11.60it/s, loss=0.246, v_num=138, ser=0.922]\n"
     ]
    }
   ],
   "source": [
    "from pytorch_lightning.loggers import CSVLogger\n",
    "from pytorch_lightning.callbacks.progress import ProgressBar\n",
    "import tqdm\n",
    "\n",
    "\n",
    "class LitProgressBar(ProgressBar):\n",
    "    def init_validation_tqdm(self):\n",
    "        bar = tqdm.tqdm(            \n",
    "            disable=True,            \n",
    "        )\n",
    "        return bar\n",
    "\n",
    "\n",
    "bar = LitProgressBar()\n",
    "model = ModulatorAutoencoder(class_count, 2)\n",
    "logger = CSVLogger(save_dir=log_dir)\n",
    "device_id = 5\n",
    "device = torch.device(f'cuda:{device_id}')\n",
    "trainer = pl.Trainer(max_epochs=10000, logger=logger, gpus=[device_id], callbacks=[bar])\n",
    "trainer.fit(model, train_dataloaders=dataloader)"
   ]
  },
  {
   "cell_type": "code",
   "execution_count": 1,
   "id": "35f6a55c-dba4-4cc4-ab0d-e0b7280ba0d9",
   "metadata": {},
   "outputs": [
    {
     "ename": "NameError",
     "evalue": "name 'dataloader' is not defined",
     "output_type": "error",
     "traceback": [
      "\u001b[0;31m---------------------------------------------------------------------------\u001b[0m",
      "\u001b[0;31mNameError\u001b[0m                                 Traceback (most recent call last)",
      "Input \u001b[0;32mIn [1]\u001b[0m, in \u001b[0;36m<module>\u001b[0;34m\u001b[0m\n\u001b[1;32m      1\u001b[0m outputs \u001b[38;5;241m=\u001b[39m []\n\u001b[0;32m----> 2\u001b[0m \u001b[38;5;28;01mfor\u001b[39;00m batch \u001b[38;5;129;01min\u001b[39;00m \u001b[43mdataloader\u001b[49m:\n\u001b[1;32m      3\u001b[0m     cur_outputs \u001b[38;5;241m=\u001b[39m model\u001b[38;5;241m.\u001b[39mto(device)\u001b[38;5;241m.\u001b[39mencoder(batch\u001b[38;5;241m.\u001b[39mto(device))\n\u001b[1;32m      4\u001b[0m     outputs\u001b[38;5;241m.\u001b[39mappend(cur_outputs\u001b[38;5;241m.\u001b[39mcpu()\u001b[38;5;241m.\u001b[39mdetach()\u001b[38;5;241m.\u001b[39mnumpy())\n",
      "\u001b[0;31mNameError\u001b[0m: name 'dataloader' is not defined"
     ]
    }
   ],
   "source": [
    "outputs = []\n",
    "for batch in dataloader:\n",
    "    cur_outputs = model.to(device).encoder(batch.to(device))\n",
    "    outputs.append(cur_outputs.cpu().detach().numpy())\n",
    "points = np.concatenate(outputs)\n",
    "plt.gca().set_aspect('equal', adjustable='box')\n",
    "for point in points:\n",
    "    plt.scatter(x=point[0], y=point[1], c='red')"
   ]
  },
  {
   "cell_type": "code",
   "execution_count": 7,
   "id": "45a8e7fd-e23e-4635-9a71-284ae325e71d",
   "metadata": {},
   "outputs": [],
   "source": [
    "torch.cuda.empty_cache()"
   ]
  },
  {
   "cell_type": "code",
   "execution_count": 20,
   "id": "072736bb-9991-4d09-8e59-f63a063cee1f",
   "metadata": {},
   "outputs": [
    {
     "data": {
      "text/plain": [
       "0.003626875"
      ]
     },
     "execution_count": 20,
     "metadata": {},
     "output_type": "execute_result"
    }
   ],
   "source": [
    "predictions = []\n",
    "labels = []\n",
    "\n",
    "model.eval()\n",
    "for _ in range(100000):\n",
    "    for batch in dataloader:\n",
    "        encoded = model.to(device).encoder(batch.to(device))\n",
    "        noise = torch.normal(torch.zeros(encoded.shape, device=device), \n",
    "                             torch.ones(encoded.shape, device=device) / 10)\n",
    "        noised = encoded + noise\n",
    "        decoded = model.to(device).decoder(noised)\n",
    "        cur_prediction = decoded.cpu().detach().argmax(-1).numpy()\n",
    "        cur_labels = batch.argmax(-1).numpy()\n",
    "        labels.append(cur_labels)\n",
    "        predictions.append(cur_prediction)\n",
    "\n",
    "true_labels = np.concatenate(labels)\n",
    "model_predictions = np.concatenate(predictions)\n",
    "\n",
    "error_count = (true_labels != model_predictions).sum()\n",
    "ser = error_count / len(true_labels)\n",
    "ser"
   ]
  },
  {
   "cell_type": "code",
   "execution_count": 4,
   "id": "63816e4f-0b93-4e43-b217-751ee1aa2a81",
   "metadata": {},
   "outputs": [
    {
     "data": {
      "image/png": "[encoded data removed]",
      "text/plain": [
       "<Figure size 432x288 with 1 Axes>"
      ]
     },
     "metadata": {
      "needs_background": "light"
     },
     "output_type": "display_data"
    }
   ],
   "source": [
    "from scipy.special import erfc\n",
    "\n",
    "def Q(x):\n",
    "    return erfc(x / np.sqrt(2)) / 2\n",
    "\n",
    "def p_error(snr, q=16):\n",
    "    sigma = 1 / 2 / (10 ** (snr / 10))\n",
    "    n0 = 2 * sigma\n",
    "    return 1 - (1 - 2 * Q(np.sqrt(3 / n0 / (q - 1)))) ** 2\n",
    "\n",
    "def p_stupid(snr, q=16):\n",
    "    sigma = 1 / 2 / (10 ** (snr / 10))\n",
    "    n0 = 2 * sigma\n",
    "    return np.exp(-3 / 2 / (q - 1) / n0)\n",
    "\n",
    "snrs = np.arange(0, 25, 0.1)\n",
    "plt.yscale('log')\n",
    "# for q in [4, 16, 64]:\n",
    "for q in [64]:\n",
    "    ys = [p_error(snr, q) for snr in snrs]\n",
    "    zs = [p_stupid(snr, q) for snr in snrs]\n",
    "    plt.plot(snrs, ys)\n",
    "    plt.plot(snrs, zs)"
   ]
  },
  {
   "cell_type": "code",
   "execution_count": null,
   "id": "79c61f88-e44f-4e35-80fd-f40f1fd5fbb8",
   "metadata": {},
   "outputs": [],
   "source": []
  }
 ],
 "metadata": {
  "kernelspec": {
   "display_name": "modulation",
   "language": "python",
   "name": "modulation"
  },
  "language_info": {
   "codemirror_mode": {
    "name": "ipython",
    "version": 3
   },
   "file_extension": ".py",
   "mimetype": "text/x-python",
   "name": "python",
   "nbconvert_exporter": "python",
   "pygments_lexer": "ipython3",
   "version": "3.9.12"
  }
 },
 "nbformat": 4,
 "nbformat_minor": 5
}
