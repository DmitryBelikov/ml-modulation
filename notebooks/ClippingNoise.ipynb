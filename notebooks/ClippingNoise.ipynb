{
 "cells": [
  {
   "cell_type": "code",
   "execution_count": 3,
   "id": "b3a0090f-6f77-4cd3-9473-19294190fe74",
   "metadata": {},
   "outputs": [],
   "source": [
    "import numpy as np\n",
    "import pandas as pd\n",
    "import matplotlib.pyplot as plt\n",
    "%matplotlib inline\n",
    "import torch\n",
    "import torch.nn as nn\n",
    "import pytorch_lightning as pl\n",
    "import torchmetrics"
   ]
  },
  {
   "cell_type": "code",
   "execution_count": 4,
   "id": "543e33c6-8516-4cc5-ae31-de666694c41c",
   "metadata": {},
   "outputs": [],
   "source": [
    "from pathlib import Path\n",
    "log_dir = Path('logs/')"
   ]
  },
  {
   "cell_type": "code",
   "execution_count": 5,
   "id": "75bcb7e1-c951-4bab-968c-879ba2e16c0c",
   "metadata": {},
   "outputs": [],
   "source": [
    "from torch.utils.data import Dataset, DataLoader\n",
    "\n",
    "class ModulatorDataset(Dataset):\n",
    "    def __init__(self, bit_count):\n",
    "        super().__init__()\n",
    "        self.bit_count = bit_count\n",
    "        \n",
    "    def __len__(self):\n",
    "        return 2 ** self.bit_count\n",
    "    \n",
    "    def __getitem__(self, idx):\n",
    "        result = torch.zeros(2 ** self.bit_count)\n",
    "        result[idx] = 1\n",
    "        return result\n",
    "\n",
    "bit_count = 4\n",
    "class_count = 2 ** bit_count\n",
    "dataset = ModulatorDataset(bit_count)\n",
    "dataloader = DataLoader(dataset, batch_size=class_count, shuffle=True)"
   ]
  },
  {
   "cell_type": "code",
   "execution_count": 6,
   "id": "1bbe8c02-ffe3-4a1b-a0b9-2d19093a34f7",
   "metadata": {},
   "outputs": [],
   "source": [
    "class EntropyNormalization(nn.Module):\n",
    "    def __init__(self):\n",
    "        super().__init__()\n",
    "        \n",
    "    def forward(self, x):\n",
    "        energy = (x ** 2).sum(axis=1).mean()\n",
    "        return x / energy.sqrt()\n",
    "\n",
    "class AwgnNoise(pl.LightningModule):\n",
    "    def __init__(self, snr):\n",
    "        super().__init__()\n",
    "        self.sigma = np.sqrt(1 / (2 * 10 ** (snr / 10)))\n",
    "        \n",
    "    def forward(self, x):\n",
    "        return x + torch.normal(torch.zeros_like(x, device=self.device), \n",
    "                                torch.full_like(x, self.sigma, device=self.device))\n",
    "\n",
    "class Clipper(pl.LightningModule):\n",
    "    def __init__(self, x, y):\n",
    "        super().__init__()\n",
    "        self.x = x\n",
    "        self.y = y\n",
    "        \n",
    "    def forward(self, data):\n",
    "        min_bound = torch.tensor([-self.x, -self.y], device=self.device)\n",
    "        max_bound = torch.tensor([self.x, self.y], device=self.device)\n",
    "        return torch.clip(data, min_bound, max_bound)\n",
    "\n",
    "class ClippingNoise(pl.LightningModule):\n",
    "    def __init__(self, snr, x, y):\n",
    "        super().__init__()\n",
    "        self.awgn = AwgnNoise(snr)\n",
    "        self.clipper = Clipper(x, y)\n",
    "        \n",
    "    def forward(self, x):\n",
    "        x = self.awgn(x)\n",
    "        return self.clipper(x)\n",
    "\n",
    "    \n",
    "class ModulatorAutoencoder(pl.LightningModule):\n",
    "    def __init__(self, class_count, encoding_shape, noise):\n",
    "        super().__init__()\n",
    "        self.encoder = nn.Sequential(\n",
    "            nn.Linear(class_count, 4 * class_count),\n",
    "            nn.ReLU(),\n",
    "            nn.Linear(4 * class_count, encoding_shape),\n",
    "            EntropyNormalization()\n",
    "        )\n",
    "        self.noise = noise\n",
    "        self.decoder = nn.Sequential(\n",
    "            nn.Linear(encoding_shape, 4 * class_count),\n",
    "            nn.ReLU(),\n",
    "            nn.Linear(4 * class_count, class_count),\n",
    "        )\n",
    "        self.loss_function = nn.CrossEntropyLoss()\n",
    "        self.symbol_error_rate = torchmetrics.Accuracy()\n",
    "        \n",
    "    def forward(self, x):\n",
    "        encoded = self.encoder(x)\n",
    "        noised = self.noise(encoded)\n",
    "        return self.decoder(noised)\n",
    "    \n",
    "    def measure_error(self, dataloader, repeat=1000):\n",
    "        correct = 0\n",
    "        total = 0\n",
    "        for _ in range(repeat):\n",
    "            for batch in dataloader:\n",
    "                decoded = self(batch)\n",
    "                prediction = decoded.argmax(-1)\n",
    "                true_classes = batch.argmax(-1)\n",
    "                \n",
    "                correct += (prediction == true_classes).detach().cpu().sum().item()\n",
    "                total += batch.shape[0]\n",
    "        return 1 - correct / total\n",
    "    \n",
    "    def training_step(self, batch, batch_idx):\n",
    "        decoded = self(batch)\n",
    "        prediction = decoded.argmax(-1)\n",
    "        true_classes = batch.argmax(-1)\n",
    "        loss = self.loss_function(decoded, batch)\n",
    "        ser = self.symbol_error_rate(prediction, true_classes)\n",
    "        self.log('ser', ser, on_epoch=True, on_step=False, prog_bar=True)\n",
    "        self.log('loss', loss, on_epoch=True, on_step=False)\n",
    "        return loss\n",
    "    \n",
    "    def configure_optimizers(self):\n",
    "        optimizer = torch.optim.Adam(self.parameters(), lr=0.005)\n",
    "        return optimizer"
   ]
  },
  {
   "cell_type": "code",
   "execution_count": null,
   "id": "a1764d74-866a-4569-8a2f-54e3ec70ece4",
   "metadata": {
    "tags": []
   },
   "outputs": [
    {
     "name": "stderr",
     "output_type": "stream",
     "text": [
      "GPU available: True, used: True\n",
      "TPU available: False, using: 0 TPU cores\n",
      "IPU available: False, using: 0 IPUs\n",
      "LOCAL_RANK: 0 - CUDA_VISIBLE_DEVICES: [0,1,2,3,4,5]\n",
      "\n",
      "  | Name              | Type             | Params\n",
      "-------------------------------------------------------\n",
      "0 | encoder           | Sequential       | 1.2 K \n",
      "1 | noise             | ClippingNoise    | 0     \n",
      "2 | decoder           | Sequential       | 1.2 K \n",
      "3 | loss_function     | CrossEntropyLoss | 0     \n",
      "4 | symbol_error_rate | Accuracy         | 0     \n",
      "-------------------------------------------------------\n",
      "2.5 K     Trainable params\n",
      "0         Non-trainable params\n",
      "2.5 K     Total params\n",
      "0.010     Total estimated model params size (MB)\n"
     ]
    },
    {
     "name": "stdout",
     "output_type": "stream",
     "text": [
      "Epoch 4999: 100%|█████| 1/1 [00:00<00:00, 12.77it/s, loss=0.164, v_num=145, ser=0.938]\n"
     ]
    },
    {
     "name": "stderr",
     "output_type": "stream",
     "text": [
      "GPU available: True, used: True\n",
      "TPU available: False, using: 0 TPU cores\n",
      "IPU available: False, using: 0 IPUs\n",
      "LOCAL_RANK: 0 - CUDA_VISIBLE_DEVICES: [0,1,2,3,4,5]\n",
      "\n",
      "  | Name              | Type             | Params\n",
      "-------------------------------------------------------\n",
      "0 | encoder           | Sequential       | 1.2 K \n",
      "1 | noise             | ClippingNoise    | 0     \n",
      "2 | decoder           | Sequential       | 1.2 K \n",
      "3 | loss_function     | CrossEntropyLoss | 0     \n",
      "4 | symbol_error_rate | Accuracy         | 0     \n",
      "-------------------------------------------------------\n",
      "2.5 K     Trainable params\n",
      "0         Non-trainable params\n",
      "2.5 K     Total params\n",
      "0.010     Total estimated model params size (MB)\n"
     ]
    },
    {
     "name": "stdout",
     "output_type": "stream",
     "text": [
      "Epoch 4999: 100%|█████| 1/1 [00:00<00:00, 13.76it/s, loss=0.113, v_num=146, ser=0.938]\n"
     ]
    },
    {
     "name": "stderr",
     "output_type": "stream",
     "text": [
      "GPU available: True, used: True\n",
      "TPU available: False, using: 0 TPU cores\n",
      "IPU available: False, using: 0 IPUs\n",
      "LOCAL_RANK: 0 - CUDA_VISIBLE_DEVICES: [0,1,2,3,4,5]\n",
      "\n",
      "  | Name              | Type             | Params\n",
      "-------------------------------------------------------\n",
      "0 | encoder           | Sequential       | 1.2 K \n",
      "1 | noise             | ClippingNoise    | 0     \n",
      "2 | decoder           | Sequential       | 1.2 K \n",
      "3 | loss_function     | CrossEntropyLoss | 0     \n",
      "4 | symbol_error_rate | Accuracy         | 0     \n",
      "-------------------------------------------------------\n",
      "2.5 K     Trainable params\n",
      "0         Non-trainable params\n",
      "2.5 K     Total params\n",
      "0.010     Total estimated model params size (MB)\n"
     ]
    },
    {
     "name": "stdout",
     "output_type": "stream",
     "text": [
      "Epoch 4999: 100%|█████| 1/1 [00:00<00:00, 13.58it/s, loss=0.091, v_num=156, ser=1.000]\n"
     ]
    },
    {
     "name": "stderr",
     "output_type": "stream",
     "text": [
      "GPU available: True, used: True\n",
      "TPU available: False, using: 0 TPU cores\n",
      "IPU available: False, using: 0 IPUs\n",
      "LOCAL_RANK: 0 - CUDA_VISIBLE_DEVICES: [0,1,2,3,4,5]\n",
      "\n",
      "  | Name              | Type             | Params\n",
      "-------------------------------------------------------\n",
      "0 | encoder           | Sequential       | 1.2 K \n",
      "1 | noise             | ClippingNoise    | 0     \n",
      "2 | decoder           | Sequential       | 1.2 K \n",
      "3 | loss_function     | CrossEntropyLoss | 0     \n",
      "4 | symbol_error_rate | Accuracy         | 0     \n",
      "-------------------------------------------------------\n",
      "2.5 K     Trainable params\n",
      "0         Non-trainable params\n",
      "2.5 K     Total params\n",
      "0.010     Total estimated model params size (MB)\n"
     ]
    },
    {
     "name": "stdout",
     "output_type": "stream",
     "text": [
      "Epoch 4999: 100%|████| 1/1 [00:00<00:00, 15.97it/s, loss=0.0657, v_num=160, ser=1.000]\n"
     ]
    },
    {
     "name": "stderr",
     "output_type": "stream",
     "text": [
      "GPU available: True, used: True\n",
      "TPU available: False, using: 0 TPU cores\n",
      "IPU available: False, using: 0 IPUs\n",
      "LOCAL_RANK: 0 - CUDA_VISIBLE_DEVICES: [0,1,2,3,4,5]\n",
      "\n",
      "  | Name              | Type             | Params\n",
      "-------------------------------------------------------\n",
      "0 | encoder           | Sequential       | 1.2 K \n",
      "1 | noise             | ClippingNoise    | 0     \n",
      "2 | decoder           | Sequential       | 1.2 K \n",
      "3 | loss_function     | CrossEntropyLoss | 0     \n",
      "4 | symbol_error_rate | Accuracy         | 0     \n",
      "-------------------------------------------------------\n",
      "2.5 K     Trainable params\n",
      "0         Non-trainable params\n",
      "2.5 K     Total params\n",
      "0.010     Total estimated model params size (MB)\n"
     ]
    },
    {
     "name": "stdout",
     "output_type": "stream",
     "text": [
      "Epoch 4999: 100%|████| 1/1 [00:00<00:00, 15.39it/s, loss=0.0751, v_num=163, ser=1.000]\n"
     ]
    },
    {
     "name": "stderr",
     "output_type": "stream",
     "text": [
      "GPU available: True, used: True\n",
      "TPU available: False, using: 0 TPU cores\n",
      "IPU available: False, using: 0 IPUs\n",
      "LOCAL_RANK: 0 - CUDA_VISIBLE_DEVICES: [0,1,2,3,4,5]\n",
      "\n",
      "  | Name              | Type             | Params\n",
      "-------------------------------------------------------\n",
      "0 | encoder           | Sequential       | 1.2 K \n",
      "1 | noise             | ClippingNoise    | 0     \n",
      "2 | decoder           | Sequential       | 1.2 K \n",
      "3 | loss_function     | CrossEntropyLoss | 0     \n",
      "4 | symbol_error_rate | Accuracy         | 0     \n",
      "-------------------------------------------------------\n",
      "2.5 K     Trainable params\n",
      "0         Non-trainable params\n",
      "2.5 K     Total params\n",
      "0.010     Total estimated model params size (MB)\n"
     ]
    },
    {
     "name": "stdout",
     "output_type": "stream",
     "text": [
      "Epoch 4791:   0%|            | 0/1 [00:00<?, ?it/s, loss=0.0377, v_num=164, ser=1.000]"
     ]
    }
   ],
   "source": [
    "from pytorch_lightning.loggers import CSVLogger\n",
    "from pytorch_lightning.callbacks.progress import ProgressBar\n",
    "import tqdm\n",
    "\n",
    "\n",
    "def train_models(bit_count, snrs, device_id=0, root_path=Path('model_storage')):\n",
    "    class_count = 2 ** bit_count\n",
    "    dataset = ModulatorDataset(bit_count)\n",
    "    dataloader = DataLoader(dataset, batch_size=class_count, shuffle=True, pin_memory=True)\n",
    "    \n",
    "    for snr in snrs:\n",
    "        device = torch.device(f'cuda:{device_id}')\n",
    "        x = 0.5\n",
    "        y = 20.\n",
    "        noise = ClippingNoise(snr, x, y).to(device)\n",
    "        model = ModulatorAutoencoder(class_count, 2, noise).to(device)\n",
    "        \n",
    "        logger = CSVLogger(save_dir=log_dir)\n",
    "        trainer = pl.Trainer(max_epochs=5000, logger=logger, gpus=[device_id])\n",
    "        trainer.fit(model, train_dataloaders=dataloader)\n",
    "        \n",
    "        filename = f'clipping_{class_count}_{snr}_{x}_{y}.pt'\n",
    "        path = root_path / filename\n",
    "        torch.save(model.state_dict(), path)\n",
    "        \n",
    "# train_models(6, [15, 16, 17, 18, 19, 20, 21, 22, 23, 24, 25])\n",
    "# train_models(6, [40])\n",
    "train_models(4, [14.5, 15., 15.5, 16., 16.5, 17])"
   ]
  },
  {
   "cell_type": "code",
   "execution_count": null,
   "id": "ba69381c-e886-491e-91c0-9452250c940a",
   "metadata": {},
   "outputs": [],
   "source": [
    "bit_count = 4\n",
    "class_count = 2 ** bit_count\n",
    "dataset = ModulatorDataset(bit_count)\n",
    "dataloader = DataLoader(dataset, batch_size=class_count, shuffle=True, pin_memory=True)\n",
    "\n",
    "device_id = 0\n",
    "device = torch.device(f'cuda:{device_id}')\n",
    "snr = 16\n",
    "noise = ClippingNoise(snr, 0.6, 2.).to(device)\n",
    "model = ModulatorAutoencoder(class_count, 2, noise).to(device)\n",
    "\n",
    "logger = CSVLogger(save_dir=log_dir)\n",
    "trainer = pl.Trainer(max_epochs=30000, logger=logger, gpus=[device_id])\n",
    "trainer.fit(model, train_dataloaders=dataloader)\n",
    "\n",
    "root_path=Path('model_storage')\n",
    "filename = f'clipping_{class_count}_{snr}.pt'\n",
    "path = root_path / filename\n",
    "torch.save(model.state_dict(), path)"
   ]
  },
  {
   "cell_type": "code",
   "execution_count": 52,
   "id": "8c9b05a7-d5a5-44e2-a424-44b814804673",
   "metadata": {},
   "outputs": [
    {
     "name": "stdout",
     "output_type": "stream",
     "text": [
      "Baseline64.ipynb  ClippingNoise.ipynb  LSTM.ipynb      TestDropout.ipynb\n",
      "Baseline.ipynb    \u001b[0m\u001b[01;34mlogs\u001b[0m/                \u001b[01;34mmodel_storage\u001b[0m/\n"
     ]
    }
   ],
   "source": [
    "ls"
   ]
  },
  {
   "cell_type": "code",
   "execution_count": 8,
   "id": "35f6a55c-dba4-4cc4-ab0d-e0b7280ba0d9",
   "metadata": {},
   "outputs": [
    {
     "data": {
      "image/png": "[encoded data removed]",
      "text/plain": [
       "<Figure size 432x288 with 1 Axes>"
      ]
     },
     "metadata": {
      "needs_background": "light"
     },
     "output_type": "display_data"
    }
   ],
   "source": [
    "bit_count = 4\n",
    "class_count = 2 ** bit_count\n",
    "dataset = ModulatorDataset(bit_count)\n",
    "dataloader = DataLoader(dataset, batch_size=class_count, shuffle=True)\n",
    "\n",
    "# class_count = 64\n",
    "device_id=0\n",
    "device = torch.device(f'cuda:{device_id}')\n",
    "snr = 16\n",
    "noise =  ClippingNoise(snr, 0.6, 2.).to(device)\n",
    "loaded = ModulatorAutoencoder(class_count, 2, noise)\n",
    "loaded.load_state_dict(torch.load(Path('model_storage/clipping_16_15.5_0.6_2.0.pt')))\n",
    "# loaded = model\n",
    "# loaded.eval()\n",
    "\n",
    "outputs = []\n",
    "for batch in dataloader:\n",
    "    cur_outputs = loaded.to(device).encoder(batch.to(device))\n",
    "    outputs.append(cur_outputs.cpu().detach().numpy())\n",
    "points = np.concatenate(outputs)\n",
    "plt.gca().set_aspect('equal', adjustable='box')\n",
    "for point in points:\n",
    "    plt.scatter(x=point[0], y=point[1], c='red')"
   ]
  },
  {
   "cell_type": "code",
   "execution_count": 62,
   "id": "251e045d-9788-4fae-9c8e-d536c9cd0871",
   "metadata": {},
   "outputs": [
    {
     "name": "stdout",
     "output_type": "stream",
     "text": [
      "Baseline64.ipynb  ClippingNoise.ipynb  LSTM.ipynb      TestDropout.ipynb\n",
      "Baseline.ipynb    \u001b[0m\u001b[01;34mlogs\u001b[0m/                \u001b[01;34mmodel_storage\u001b[0m/\n"
     ]
    }
   ],
   "source": [
    "ls"
   ]
  },
  {
   "cell_type": "code",
   "execution_count": 13,
   "id": "45a8e7fd-e23e-4635-9a71-284ae325e71d",
   "metadata": {},
   "outputs": [],
   "source": [
    "torch.cuda.empty_cache()"
   ]
  },
  {
   "cell_type": "code",
   "execution_count": 20,
   "id": "072736bb-9991-4d09-8e59-f63a063cee1f",
   "metadata": {
    "tags": []
   },
   "outputs": [
    {
     "data": {
      "text/plain": [
       "0.003626875"
      ]
     },
     "execution_count": 20,
     "metadata": {},
     "output_type": "execute_result"
    }
   ],
   "source": [
    "predictions = []\n",
    "labels = []\n",
    "\n",
    "model.eval()\n",
    "for _ in range(100000):\n",
    "    for batch in dataloader:\n",
    "        encoded = model.to(device).encoder(batch.to(device))\n",
    "        noise = torch.normal(torch.zeros(encoded.shape, device=device), \n",
    "                             torch.ones(encoded.shape, device=device) / 10)\n",
    "        noised = encoded + noise\n",
    "        decoded = model.to(device).decoder(noised)\n",
    "        cur_prediction = decoded.cpu().detach().argmax(-1).numpy()\n",
    "        cur_labels = batch.argmax(-1).numpy()\n",
    "        labels.append(cur_labels)\n",
    "        predictions.append(cur_prediction)\n",
    "\n",
    "true_labels = np.concatenate(labels)\n",
    "model_predictions = np.concatenate(predictions)\n",
    "\n",
    "error_count = (true_labels != model_predictions).sum()\n",
    "ser = error_count / len(true_labels)\n",
    "ser"
   ]
  },
  {
   "cell_type": "code",
   "execution_count": null,
   "id": "63816e4f-0b93-4e43-b217-751ee1aa2a81",
   "metadata": {
    "tags": []
   },
   "outputs": [],
   "source": []
  },
  {
   "cell_type": "code",
   "execution_count": 14,
   "id": "0a965849-f8ab-4884-8ae1-63e25117fb93",
   "metadata": {},
   "outputs": [
    {
     "data": {
      "text/plain": [
       "2"
      ]
     },
     "execution_count": 14,
     "metadata": {},
     "output_type": "execute_result"
    }
   ],
   "source": [
    "2"
   ]
  },
  {
   "cell_type": "code",
   "execution_count": null,
   "id": "d7423f05-bd59-4ffa-89cc-91ce1222bfd7",
   "metadata": {},
   "outputs": [],
   "source": [
    "## 1 - (1 - 2Q(sqrt(3E/N_0 * 1 / (q - 1)))) ^ 2\n",
    "## Q(x) = erfc(x / sqrt(2)) / 2\n",
    "## erfc(x) = 1 - erf(x)\n",
    "## erf(x) = 2 / sqrt(pi) * int_0^x e^(-z^2)dz"
   ]
  },
  {
   "cell_type": "code",
   "execution_count": 18,
   "id": "a759eea7-9b7f-40f3-b762-b041ef439be9",
   "metadata": {
    "tags": []
   },
   "outputs": [
    {
     "name": "stderr",
     "output_type": "stream",
     "text": [
      "/home/drbelikov/anaconda3/envs/modulation/lib/python3.9/site-packages/torch/nn/modules/container.py:141: UserWarning: Implicit dimension choice for softmax has been deprecated. Change the call to include dim=X as an argument.\n",
      "  input = module(input)\n"
     ]
    },
    {
     "data": {
      "image/png": "[encoded data removed]",
      "text/plain": [
       "<Figure size 432x288 with 1 Axes>"
      ]
     },
     "metadata": {
      "needs_background": "light"
     },
     "output_type": "display_data"
    }
   ],
   "source": [
    "from scipy.special import erfc\n",
    "\n",
    "def Q(x):\n",
    "    return erfc(x / np.sqrt(2)) / 2\n",
    "\n",
    "def p_error(snr, q=16):\n",
    "    sigma = 1 / 2 / (10 ** (snr / 10))\n",
    "    n0 = 2 * sigma\n",
    "    return 1 - (1 - 2 * Q(np.sqrt(3 / n0 / (q - 1)))) ** 2\n",
    "\n",
    "def p_stupid(snr, q=16):\n",
    "    sigma = 1 / 2 / (10 ** (snr / 10))\n",
    "    n0 = 2 * sigma\n",
    "    return np.exp(-3 / 2 / (q - 1) / n0)\n",
    "\n",
    "snrs = np.arange(10, 18, 0.1)\n",
    "plt.yscale('log')\n",
    "# for q in [4, 16, 64]:\n",
    "for q in [16]:\n",
    "    ys = [p_error(snr, q) for snr in snrs]\n",
    "    zs = [p_stupid(snr, q) for snr in snrs]\n",
    "    plt.plot(snrs, ys)\n",
    "    plt.plot(snrs, zs)\n",
    "\n",
    "\n",
    "bit_count = 4\n",
    "class_count = 2 ** bit_count\n",
    "nn_probs = []\n",
    "nn_snrs = [13, 14, 15, 16, 17]\n",
    "for snr in nn_snrs:\n",
    "    loaded = ModulatorAutoencoder(class_count, 2, snr)\n",
    "    loaded.load_state_dict(torch.load(Path(f'model_storage/ae_{class_count}_{snr}.pt')))\n",
    "    loaded.eval()\n",
    "    \n",
    "    dataset = ModulatorDataset(bit_count)\n",
    "    dataloader = DataLoader(dataset, batch_size=class_count, shuffle=True, pin_memory=True)\n",
    "    \n",
    "    correct = 0\n",
    "    total = 0\n",
    "    for _ in range(10 ** 3):\n",
    "        for batch in dataloader:\n",
    "            prediction = loaded(batch).cpu().detach().argmax(-1)\n",
    "            true_labels = batch.argmax(-1)\n",
    "            correct += (true_labels == prediction).sum().item()\n",
    "            total += class_count\n",
    "    nn_probs.append(1 - correct / total)\n",
    "    \n",
    "plt.scatter(nn_snrs, nn_probs, s=10, c='green');"
   ]
  },
  {
   "cell_type": "code",
   "execution_count": null,
   "id": "90446482-8bf8-43eb-a9ed-1da7dcebbb08",
   "metadata": {},
   "outputs": [],
   "source": []
  }
 ],
 "metadata": {
  "kernelspec": {
   "display_name": "modulation",
   "language": "python",
   "name": "modulation"
  },
  "language_info": {
   "codemirror_mode": {
    "name": "ipython",
    "version": 3
   },
   "file_extension": ".py",
   "mimetype": "text/x-python",
   "name": "python",
   "nbconvert_exporter": "python",
   "pygments_lexer": "ipython3",
   "version": "3.9.12"
  }
 },
 "nbformat": 4,
 "nbformat_minor": 5
}
