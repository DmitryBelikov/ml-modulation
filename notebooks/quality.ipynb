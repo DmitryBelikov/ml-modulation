{
 "cells": [
  {
   "cell_type": "code",
   "execution_count": 1,
   "id": "df48b2aa-3aaf-4dfc-b317-d0e5a7058b12",
   "metadata": {},
   "outputs": [],
   "source": [
    "import numpy as np\n",
    "import pandas as pd\n",
    "import matplotlib.pyplot as plt\n",
    "%matplotlib inline\n",
    "import torch\n",
    "import torch.nn as nn\n",
    "import pytorch_lightning as pl\n",
    "import torchmetrics"
   ]
  },
  {
   "cell_type": "code",
   "execution_count": 2,
   "id": "3bc2a3c1-39e7-4ce3-94ea-e74777ba8057",
   "metadata": {},
   "outputs": [
    {
     "data": {
      "text/plain": [
       "0.534375"
      ]
     },
     "execution_count": 2,
     "metadata": {},
     "output_type": "execute_result"
    }
   ],
   "source": [
    "from ml_modulation.modules.qam import QamModulator\n",
    "from ml_modulation.modules.noise import AwgnNoise\n",
    "from ml_modulation.datasets.modulator import ModulatorDataset\n",
    "\n",
    "from torch.utils.data import DataLoader\n",
    "\n",
    "bit_count = 4\n",
    "dataset = ModulatorDataset(bit_count)\n",
    "dataloader = DataLoader(dataset, batch_size=2 ** bit_count, shuffle=True)\n",
    "noise = AwgnNoise(5)\n",
    "qam = QamModulator(bit_count, noise)\n",
    "qam.measure_error(dataloader)\n",
    "# sample = dataset[1]\n",
    "# qam(sample)"
   ]
  },
  {
   "cell_type": "code",
   "execution_count": 1,
   "id": "ec97efe3-b9c8-4806-b716-11692f06b3c6",
   "metadata": {},
   "outputs": [
    {
     "data": {
      "text/plain": [
       "Modulator(\n",
       "  (encoder): Encoder(\n",
       "    (encoder): Sequential(\n",
       "      (0): Linear(in_features=16, out_features=64, bias=True)\n",
       "      (1): ReLU()\n",
       "      (2): Linear(in_features=64, out_features=2, bias=True)\n",
       "      (3): EntropyNormalization()\n",
       "    )\n",
       "  )\n",
       "  (noise): AwgnNoise()\n",
       "  (decoder): Decoder(\n",
       "    (decoder): Sequential(\n",
       "      (0): Linear(in_features=2, out_features=64, bias=True)\n",
       "      (1): ReLU()\n",
       "      (2): Linear(in_features=64, out_features=16, bias=True)\n",
       "    )\n",
       "  )\n",
       "  (loss_function): CrossEntropyLoss()\n",
       "  (symbol_error_rate): Accuracy()\n",
       ")"
      ]
     },
     "execution_count": 1,
     "metadata": {},
     "output_type": "execute_result"
    }
   ],
   "source": [
    "from ml_modulation.util import plot_constellation\n",
    "from ml_modulation.util import load_modulator\n",
    "\n",
    "from pathlib import Path\n",
    "\n",
    "path = Path('/home/drbelikov/ml-modulation/new_model_storage/ae_awgn_16_14.0_10000.pt')\n",
    "load_modulator(path)"
   ]
  },
  {
   "cell_type": "code",
   "execution_count": 33,
   "id": "385d0995-1a3f-44df-810a-0a57cc7028d1",
   "metadata": {},
   "outputs": [
    {
     "name": "stdout",
     "output_type": "stream",
     "text": [
      "{'noise': 'clipping', 'class_count': '64', 'snr': '24.0', 'epochs': '50000'}\n",
      "<re.Match object; span=(0, 28), match='ae_clipping_64_24.0_50000.pt'>\n"
     ]
    }
   ],
   "source": [
    "import re\n",
    "\n",
    "prog = re.compile(r'^ae_(?P<noise>\\w+)_(?P<class_count>\\d+)_(?P<snr>(!_)+)_(?P<epochs>\\d+).pt$')\n",
    "prog = re.compile(r'^ae_(?P<noise>[a-z]+)_(?P<class_count>\\d+)_(?P<snr>[\\d|.]+)_(?P<epochs>\\d+)\\.pt$')\n",
    "filename = 'ae_clipping_64_24.0_50000.pt'\n",
    "result = prog.fullmatch(filename)\n",
    "print(result.groupdict())\n",
    "print(result)"
   ]
  },
  {
   "cell_type": "code",
   "execution_count": null,
   "id": "701886da-43c7-430b-b27c-4915a75581fd",
   "metadata": {},
   "outputs": [],
   "source": []
  }
 ],
 "metadata": {
  "kernelspec": {
   "display_name": "modulation",
   "language": "python",
   "name": "modulation"
  },
  "language_info": {
   "codemirror_mode": {
    "name": "ipython",
    "version": 3
   },
   "file_extension": ".py",
   "mimetype": "text/x-python",
   "name": "python",
   "nbconvert_exporter": "python",
   "pygments_lexer": "ipython3",
   "version": "3.9.12"
  }
 },
 "nbformat": 4,
 "nbformat_minor": 5
}
